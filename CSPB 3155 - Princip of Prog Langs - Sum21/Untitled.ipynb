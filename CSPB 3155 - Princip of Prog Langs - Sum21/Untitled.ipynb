{
 "cells": [
  {
   "cell_type": "code",
   "execution_count": 28,
   "metadata": {},
   "outputs": [
    {
     "data": {
      "text/plain": [
       "defined \u001b[32mclass\u001b[39m \u001b[36mA\u001b[39m\n",
       "defined \u001b[32mclass\u001b[39m \u001b[36mB\u001b[39m\n",
       "defined \u001b[32mclass\u001b[39m \u001b[36mC\u001b[39m\n",
       "defined \u001b[32mfunction\u001b[39m \u001b[36mfoo\u001b[39m\n",
       "\u001b[36mres27_4\u001b[39m: \u001b[32mString\u001b[39m = \u001b[32m\"Hello from C\"\u001b[39m"
      ]
     },
     "execution_count": 28,
     "metadata": {},
     "output_type": "execute_result"
    }
   ],
   "source": [
    "abstract class A\n",
    "\n",
    "class B extends A {\n",
    "    def hello: String = \"Hello from B\"\n",
    "}\n",
    "\n",
    "class C extends A {\n",
    "    def hello: String = \"Hello from C\"\n",
    "}\n",
    "\n",
    "def foo (a: A ) = a.asInstanceOf[C].hello\n",
    "\n",
    "foo(new C)\n",
    "// foo(new B)"
   ]
  },
  {
   "cell_type": "code",
   "execution_count": 14,
   "metadata": {},
   "outputs": [
    {
     "data": {
      "text/plain": [
       "defined \u001b[32mfunction\u001b[39m \u001b[36mfun2\u001b[39m\n",
       "defined \u001b[32mfunction\u001b[39m \u001b[36mfun4\u001b[39m"
      ]
     },
     "execution_count": 14,
     "metadata": {},
     "output_type": "execute_result"
    }
   ],
   "source": [
    "def fun2(x: Int): Int = x match {\n",
    "    \n",
    "    case y if y >= 0 => y + 10\n",
    "    \n",
    "    case _ => x - 10\n",
    "}\n",
    "\n",
    "// def fun1(x: Int): Int = {\n",
    "    \n",
    "//     if (x <= 20) { 45 }\n",
    "    \n",
    "// }\n",
    "\n",
    "// def fun3(x: Int): Int = x match {\n",
    "    \n",
    "//     case y if y >= 0 => y + 10\n",
    "//     case _ => z - 10\n",
    "// }\n",
    "\n",
    "def fun4(x: Int): Int = x match {\n",
    "    case y if y >= 0 => y-10\n",
    "    case y if y <= 0 => y + 10\n",
    "}"
   ]
  },
  {
   "cell_type": "code",
   "execution_count": 12,
   "metadata": {},
   "outputs": [
    {
     "name": "stderr",
     "output_type": "stream",
     "text": [
      "cmd12.sc:3: type mismatch;\n",
      " found   : Unit\n",
      " required: Int\n",
      "    if (x <= 20) { 45 }\n",
      "    ^Compilation Failed"
     ]
    },
    {
     "ename": "",
     "evalue": "",
     "output_type": "error",
     "traceback": [
      "Compilation Failed"
     ]
    }
   ],
   "source": [
    "def fun1(x: Int): Int = {\n",
    "    \n",
    "    if (x <= 20) { 45 }\n",
    "    \n",
    "}"
   ]
  },
  {
   "cell_type": "code",
   "execution_count": 10,
   "metadata": {},
   "outputs": [
    {
     "data": {
      "text/plain": [
       "defined \u001b[32mfunction\u001b[39m \u001b[36mfoo\u001b[39m\n",
       "\u001b[36ml\u001b[39m: \u001b[32mList\u001b[39m[\u001b[32mInt\u001b[39m] = \u001b[33mList\u001b[39m(\u001b[32m1\u001b[39m, \u001b[32m2\u001b[39m, \u001b[32m3\u001b[39m, \u001b[32m4\u001b[39m, \u001b[32m5\u001b[39m)\n",
       "defined \u001b[32mfunction\u001b[39m \u001b[36mfoo1\u001b[39m\n",
       "defined \u001b[32mfunction\u001b[39m \u001b[36mfoo2\u001b[39m\n",
       "defined \u001b[32mfunction\u001b[39m \u001b[36mfoo3\u001b[39m\n",
       "\u001b[36mres9_5\u001b[39m: \u001b[32mList\u001b[39m[\u001b[32mInt\u001b[39m] = \u001b[33mList\u001b[39m(\u001b[32m1\u001b[39m, \u001b[32m4\u001b[39m, \u001b[32m9\u001b[39m, \u001b[32m16\u001b[39m, \u001b[32m25\u001b[39m)\n",
       "\u001b[36mres9_6\u001b[39m: \u001b[32mList\u001b[39m[\u001b[32mList\u001b[39m[\u001b[32mInt\u001b[39m]] = \u001b[33mList\u001b[39m(\u001b[33mList\u001b[39m(\u001b[32m1\u001b[39m), \u001b[33mList\u001b[39m(\u001b[32m4\u001b[39m), \u001b[33mList\u001b[39m(\u001b[32m9\u001b[39m), \u001b[33mList\u001b[39m(\u001b[32m16\u001b[39m), \u001b[33mList\u001b[39m(\u001b[32m25\u001b[39m))\n",
       "\u001b[36mres9_7\u001b[39m: \u001b[32mInt\u001b[39m = \u001b[32m15\u001b[39m\n",
       "\u001b[36mres9_8\u001b[39m: \u001b[32mList\u001b[39m[\u001b[32mInt\u001b[39m] = \u001b[33mList\u001b[39m(\u001b[32m1\u001b[39m, \u001b[32m4\u001b[39m, \u001b[32m9\u001b[39m, \u001b[32m16\u001b[39m, \u001b[32m25\u001b[39m)"
      ]
     },
     "execution_count": 10,
     "metadata": {},
     "output_type": "execute_result"
    }
   ],
   "source": [
    "def foo(l: List[Int]): List[Int] = { \n",
    "             var retList: List[Int]  = List()\n",
    "             for (x <- l) { // This iterates through each element of the list l\n",
    "                       retList = retList ++ List(x * x) // Note ++ is the list append to end operator           \n",
    "              }\n",
    "             return retList\n",
    "}\n",
    "\n",
    "val l: List[Int] = List(1,2,3,4,5)\n",
    "\n",
    "def foo1 (l: List[Int]) = l.map (x => List(x*x))\n",
    "\n",
    "def foo2 (l: List[Int])  = l.foldLeft (0) ((x,y) => (x+y))\n",
    "\n",
    "def foo3 (l : List[Int] ) = l.map {x => x * x}\n",
    "\n",
    "// def foo4 (l: List[Int])  = l.map ((x,y) => (x + y))\n",
    "\n",
    "\n",
    "foo(l)\n",
    "foo1(l)\n",
    "foo2(l)\n",
    "foo3(l)\n",
    "// foo4(l)"
   ]
  },
  {
   "cell_type": "code",
   "execution_count": 28,
   "metadata": {},
   "outputs": [
    {
     "name": "stderr",
     "output_type": "stream",
     "text": [
      "cmd28.sc:8: value sound is not a member of type parameter T\n",
      "    def allSounds(emotion: String) = allAnimals.map(_.sound(emotion))\n",
      "                                                      ^cmd28.sc:9: value genus is not a member of type parameter T\n",
      "    def allGenera: List[String] = allAnimals.map(_.genus)\n",
      "                                                   ^cmd28.sc:10: value species is not a member of type parameter T\n",
      "    def allSpecies: List[String] = allAnimals.map(_.species)                                                       \n",
      "                                                    ^Compilation Failed"
     ]
    },
    {
     "ename": "",
     "evalue": "",
     "output_type": "error",
     "traceback": [
      "Compilation Failed"
     ]
    }
   ],
   "source": [
    "trait Animal {\n",
    "    def sound(emotion: String): String\n",
    "    val genus: String\n",
    "    val species: String\n",
    "}\n",
    "\n",
    "class Zoo[T] ( allAnimals: List[T]) {\n",
    "    def allSounds(emotion: String) = allAnimals.map(_.sound(emotion))\n",
    "    def allGenera: List[String] = allAnimals.map(_.genus)\n",
    "    def allSpecies: List[String] = allAnimals.map(_.species)                                                       \n",
    "\n",
    "}"
   ]
  },
  {
   "cell_type": "code",
   "execution_count": 35,
   "metadata": {},
   "outputs": [
    {
     "data": {
      "text/plain": [
       "\u001b[36mlst\u001b[39m: \u001b[32mList\u001b[39m[\u001b[32mInt\u001b[39m] = \u001b[33mList\u001b[39m(\u001b[32m1\u001b[39m, \u001b[32m2\u001b[39m, \u001b[32m3\u001b[39m)\n",
       "\u001b[36mlst2\u001b[39m: \u001b[32mList\u001b[39m[\u001b[32mInt\u001b[39m] = \u001b[33mList\u001b[39m(\u001b[32m1\u001b[39m, \u001b[32m2\u001b[39m, \u001b[32m3\u001b[39m)\n",
       "\u001b[36mres34_2\u001b[39m: \u001b[32mInt\u001b[39m = \u001b[32m14\u001b[39m"
      ]
     },
     "execution_count": 35,
     "metadata": {},
     "output_type": "execute_result"
    }
   ],
   "source": [
    "val lst: List[Int] = List(1,2,3)\n",
    "val lst2: List[Int] = List(1,2,3)\n",
    "\n",
    "// lst.map(x => 2 * x)\n",
    "// lst.filter(_ %2 == 0)\n",
    "// lst.zip(lst2).sum\n",
    "\n",
    "lst.zip(lst2).foldLeft(0){(acc,elt) => acc + elt._1 * elt._2}\n",
    "// lst.foldLeft(0){(acc,elt) => acc +elt * elt}\n",
    "// lst.filter(_ %2 == 1)\n",
    "// lst.map(x => x * x)"
   ]
  },
  {
   "cell_type": "code",
   "execution_count": 35,
   "metadata": {},
   "outputs": [
    {
     "name": "stderr",
     "output_type": "stream",
     "text": [
      "(console):17:29 expected \")\"\n",
      "def analyzeSwimSpeed[T] ( T animal ): Double = { /* .. code not relevant ... */ } \n",
      "                            ^"
     ]
    },
    {
     "ename": "",
     "evalue": "",
     "output_type": "error",
     "traceback": [
      "(console):17:29 expected \")\"\ndef analyzeSwimSpeed[T] ( T animal ): Double = { /* .. code not relevant ... */ } \n                            ^"
     ]
    }
   ],
   "source": [
    "/* The parent class of them all */\n",
    "abstract class Animal \n",
    "\n",
    "/* some traits */\n",
    "trait SwimsInWater\n",
    "trait WalksInLand\n",
    "\n",
    "/* some classes */\n",
    "class Reptile extends Animal\n",
    "class Fish extends Animal with SwimsInWater\n",
    "class Amphibian extends Animal with SwimsInWater with WalksInLand\n",
    "class Frog extends Amphibian\n",
    "class Nemo extends Fish\n",
    "// .. other class definitions are possible .. \n",
    "\n",
    "/* some functions */\n",
    "def analyzeSwimSpeed[T] ( T animal ): Double = { /* .. code not relevant ... */ } \n",
    "def analyzeLandSpeed[T] ( T animal) : Double = { /* .. code not relevant ... */ } \n",
    "def printAnimalGenusAndSpecies[T] ( T animal ) : String = { ... }\n"
   ]
  }
 ],
 "metadata": {
  "kernelspec": {
   "display_name": "Scala",
   "language": "scala",
   "name": "scala"
  },
  "language_info": {
   "codemirror_mode": "text/x-scala",
   "file_extension": ".scala",
   "mimetype": "text/x-scala",
   "name": "scala",
   "nbconvert_exporter": "script",
   "version": "2.12.11"
  }
 },
 "nbformat": 4,
 "nbformat_minor": 4
}
