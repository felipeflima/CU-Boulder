{
 "cells": [
  {
   "cell_type": "markdown",
   "metadata": {},
   "source": [
    "\n",
    "\n",
    "Nonterminal = {N}\n",
    "\n",
    "Terminals: { Z, Succ(.) }\n",
    "\n",
    "Start symbol: N\n",
    "\n",
    "N => Z\n",
    "N => Succ(N) "
   ]
  },
  {
   "cell_type": "code",
   "execution_count": 32,
   "metadata": {},
   "outputs": [
    {
     "data": {
      "text/plain": [
       "defined \u001b[32mtrait\u001b[39m \u001b[36mN\u001b[39m\n",
       "defined \u001b[32mclass\u001b[39m \u001b[36mZ\u001b[39m\n",
       "defined \u001b[32mclass\u001b[39m \u001b[36mSucc\u001b[39m"
      ]
     },
     "execution_count": 32,
     "metadata": {},
     "output_type": "execute_result"
    }
   ],
   "source": [
    "sealed trait N // declare a nonterminal\n",
    "case class Z() extends N // N => Z\n",
    "case class Succ(n: N) extends N // N => Succ(N)\n"
   ]
  },
  {
   "cell_type": "code",
   "execution_count": 38,
   "metadata": {},
   "outputs": [
    {
     "data": {
      "text/plain": [
       "\u001b[36mone\u001b[39m: \u001b[32mSucc\u001b[39m = \u001b[33mSucc\u001b[39m(Z())\n",
       "\u001b[36mtwo\u001b[39m: \u001b[32mSucc\u001b[39m = \u001b[33mSucc\u001b[39m(\u001b[33mSucc\u001b[39m(Z()))\n",
       "\u001b[36mthree\u001b[39m: \u001b[32mSucc\u001b[39m = \u001b[33mSucc\u001b[39m(\u001b[33mSucc\u001b[39m(\u001b[33mSucc\u001b[39m(Z())))\n",
       "\u001b[36mres37_3\u001b[39m: \u001b[32mBoolean\u001b[39m = false\n",
       "\u001b[36mres37_4\u001b[39m: \u001b[32mBoolean\u001b[39m = true"
      ]
     },
     "execution_count": 38,
     "metadata": {},
     "output_type": "execute_result"
    }
   ],
   "source": [
    "val one = Succ(Z())\n",
    "val two = Succ(Succ(Z()))\n",
    "val three = Succ(Succ(Succ(Z())))\n",
    "one == two\n",
    "Succ(two) == three"
   ]
  },
  {
   "cell_type": "markdown",
   "metadata": {},
   "source": [
    "trait? abstract class?\n",
    "\n",
    "class Hello { // Interface , defined an API but not implement it\n",
    "\n",
    "   virtual void foo(int n) = 0;\n",
    "   \n",
    "   }\n",
    "   \n",
    "class HelloImplementation : public Hello {\n",
    "\n",
    "   virtual void foo (int n) { printf(\"%d\", n); }\n",
    "   } "
   ]
  },
  {
   "cell_type": "code",
   "execution_count": 9,
   "metadata": {},
   "outputs": [
    {
     "data": {
      "text/plain": [
       "defined \u001b[32mtrait\u001b[39m \u001b[36mFoo\u001b[39m\n",
       "defined \u001b[32mclass\u001b[39m \u001b[36mFooImpl\u001b[39m"
      ]
     },
     "execution_count": 9,
     "metadata": {},
     "output_type": "execute_result"
    }
   ],
   "source": [
    "trait Foo {\n",
    "    var myMutable = 0\n",
    "    def functionImportant(n: Int): Int\n",
    "}\n",
    "\n",
    "class FooImpl() extends Foo {\n",
    "    def functionImportant(n: Int): Int = {\n",
    "        myMutable = myMutable + 1\n",
    "        n +  myMutable\n",
    "    }\n",
    "}"
   ]
  },
  {
   "cell_type": "code",
   "execution_count": 8,
   "metadata": {},
   "outputs": [
    {
     "data": {
      "text/plain": [
       "\u001b[36mh\u001b[39m: \u001b[32mFooImpl\u001b[39m = ammonite.$sess.cmd5$Helper$FooImpl@620e5658\n",
       "\u001b[36my\u001b[39m: \u001b[32mInt\u001b[39m = \u001b[32m11\u001b[39m"
      ]
     },
     "execution_count": 8,
     "metadata": {},
     "output_type": "execute_result"
    }
   ],
   "source": [
    "val h = new FooImpl()\n",
    "val y = h.functionImportant(10)\n"
   ]
  },
  {
   "cell_type": "code",
   "execution_count": 29,
   "metadata": {},
   "outputs": [
    {
     "data": {
      "text/plain": [
       "defined \u001b[32mclass\u001b[39m \u001b[36mMyClass\u001b[39m"
      ]
     },
     "execution_count": 29,
     "metadata": {},
     "output_type": "execute_result"
    }
   ],
   "source": [
    "class MyClass(x: String, n: Int) {\n",
    "    def foo() = { println(s\"x = $x, n = $n\")}\n",
    "   // override def toString : String = { s\"My internal to string operator: $x, $n\"}\n",
    "}"
   ]
  },
  {
   "cell_type": "code",
   "execution_count": 31,
   "metadata": {},
   "outputs": [
    {
     "data": {
      "text/plain": [
       "\u001b[36mq1\u001b[39m: \u001b[32mMyClass\u001b[39m = ammonite.$sess.cmd28$Helper$MyClass@41f0a364\n",
       "\u001b[36mq2\u001b[39m: \u001b[32mMyClass\u001b[39m = ammonite.$sess.cmd28$Helper$MyClass@37aa2795\n",
       "\u001b[36mres30_2\u001b[39m: \u001b[32mBoolean\u001b[39m = false"
      ]
     },
     "execution_count": 31,
     "metadata": {},
     "output_type": "execute_result"
    }
   ],
   "source": [
    "val q1 = new MyClass(\"hello\", 10) // without case class\n",
    "val q2 = new MyClass(\"hello\", 10)\n",
    "q1 == q2"
   ]
  },
  {
   "cell_type": "code",
   "execution_count": 23,
   "metadata": {},
   "outputs": [
    {
     "data": {
      "text/plain": [
       "defined \u001b[32mclass\u001b[39m \u001b[36mMyCaseClass\u001b[39m"
      ]
     },
     "execution_count": 23,
     "metadata": {},
     "output_type": "execute_result"
    }
   ],
   "source": [
    "case class MyCaseClass(x: String, n: Int) {\n",
    "    def foo() = { println(s\"x = $x, n = $n\")}   \n",
    "}\n",
    "// Companion Object for you --> factory method"
   ]
  },
  {
   "cell_type": "code",
   "execution_count": 24,
   "metadata": {},
   "outputs": [
    {
     "data": {
      "text/plain": [
       "\u001b[36mp\u001b[39m: \u001b[32mMyCaseClass\u001b[39m = \u001b[33mMyCaseClass\u001b[39m(\u001b[32m\"hello\"\u001b[39m, \u001b[32m10\u001b[39m)"
      ]
     },
     "execution_count": 24,
     "metadata": {},
     "output_type": "execute_result"
    }
   ],
   "source": [
    "val p =  MyCaseClass(\"hello\", 10)// with case class"
   ]
  },
  {
   "cell_type": "code",
   "execution_count": 27,
   "metadata": {},
   "outputs": [
    {
     "data": {
      "text/plain": [
       "\u001b[36mp1\u001b[39m: \u001b[32mMyCaseClass\u001b[39m = \u001b[33mMyCaseClass\u001b[39m(\u001b[32m\"hello\"\u001b[39m, \u001b[32m10\u001b[39m)\n",
       "\u001b[36mp2\u001b[39m: \u001b[32mMyCaseClass\u001b[39m = \u001b[33mMyCaseClass\u001b[39m(\u001b[32m\"hello\"\u001b[39m, \u001b[32m10\u001b[39m)\n",
       "\u001b[36mp4\u001b[39m: \u001b[32mMyCaseClass\u001b[39m = \u001b[33mMyCaseClass\u001b[39m(\u001b[32m\"world\"\u001b[39m, \u001b[32m10\u001b[39m)"
      ]
     },
     "execution_count": 27,
     "metadata": {},
     "output_type": "execute_result"
    }
   ],
   "source": [
    "val p1 = MyCaseClass(\"hello\", 10)\n",
    "val p2 = MyCaseClass(\"hello\", 10)\n",
    "val p4 = MyCaseClass(\"world\", 10)"
   ]
  },
  {
   "cell_type": "code",
   "execution_count": 26,
   "metadata": {},
   "outputs": [
    {
     "data": {
      "text/plain": [
       "\u001b[36mp3\u001b[39m: \u001b[32mBoolean\u001b[39m = true"
      ]
     },
     "execution_count": 26,
     "metadata": {},
     "output_type": "execute_result"
    }
   ],
   "source": [
    "val p3 = p1 == p2"
   ]
  },
  {
   "cell_type": "code",
   "execution_count": 28,
   "metadata": {},
   "outputs": [
    {
     "data": {
      "text/plain": [
       "\u001b[36mres27\u001b[39m: \u001b[32mBoolean\u001b[39m = false"
      ]
     },
     "execution_count": 28,
     "metadata": {},
     "output_type": "execute_result"
    }
   ],
   "source": [
    "p1 == p4"
   ]
  },
  {
   "cell_type": "markdown",
   "metadata": {},
   "source": [
    "Non Terms: A, B\n",
    "\n",
    "Terminals: { X, Y, Z(.), Z2(.),  W(., .) }\n",
    "\n",
    "Rules: \n",
    "\n",
    "A => Z(A)\n",
    "A => W(A, B)\n",
    "B => X\n",
    "B => Y\n",
    "A => Z2(B)"
   ]
  },
  {
   "cell_type": "code",
   "execution_count": 42,
   "metadata": {},
   "outputs": [
    {
     "data": {
      "text/plain": [
       "defined \u001b[32mtrait\u001b[39m \u001b[36mA\u001b[39m\n",
       "defined \u001b[32mtrait\u001b[39m \u001b[36mB\u001b[39m\n",
       "defined \u001b[32mclass\u001b[39m \u001b[36mZ\u001b[39m\n",
       "defined \u001b[32mclass\u001b[39m \u001b[36mW\u001b[39m\n",
       "defined \u001b[32mobject\u001b[39m \u001b[36mX\u001b[39m\n",
       "defined \u001b[32mobject\u001b[39m \u001b[36mY\u001b[39m\n",
       "defined \u001b[32mclass\u001b[39m \u001b[36mZ2\u001b[39m"
      ]
     },
     "execution_count": 42,
     "metadata": {},
     "output_type": "execute_result"
    }
   ],
   "source": [
    "sealed trait A\n",
    "sealed trait B\n",
    "\n",
    "case class Z(a: A) extends A // A => Z(A)\n",
    "case class W(a: A, b: B) extends A // A => W(A, B)\n",
    "case object X extends B // B => X\n",
    "case object Y extends B // B => Y\n",
    "case class Z2(b: B) extends A  // A => Z2(B)\n",
    "\n",
    "\n",
    "\n",
    "\n",
    "\n"
   ]
  },
  {
   "cell_type": "code",
   "execution_count": 43,
   "metadata": {},
   "outputs": [
    {
     "data": {
      "text/plain": [
       "\u001b[36mterm1\u001b[39m: \u001b[32mW\u001b[39m = \u001b[33mW\u001b[39m(\u001b[33mZ2\u001b[39m(Y), Y)"
      ]
     },
     "execution_count": 43,
     "metadata": {},
     "output_type": "execute_result"
    }
   ],
   "source": [
    "val term1 = W(Z2( Y ), Y )"
   ]
  },
  {
   "cell_type": "code",
   "execution_count": 46,
   "metadata": {},
   "outputs": [
    {
     "data": {
      "text/plain": [
       "defined \u001b[32mobject\u001b[39m \u001b[36mHello\u001b[39m"
      ]
     },
     "execution_count": 46,
     "metadata": {},
     "output_type": "execute_result"
    }
   ],
   "source": [
    "object Hello { \n",
    "    val x = 10\n",
    "    var y = 15\n",
    "    private val x2 = 25\n",
    "    def hello(x: String) = { println(\"Hello\")}\n",
    "}"
   ]
  },
  {
   "cell_type": "code",
   "execution_count": 45,
   "metadata": {},
   "outputs": [
    {
     "name": "stdout",
     "output_type": "stream",
     "text": [
      "Hello\n"
     ]
    }
   ],
   "source": [
    "val h = Hello.hello(\"world\")"
   ]
  },
  {
   "cell_type": "code",
   "execution_count": 48,
   "metadata": {},
   "outputs": [
    {
     "data": {
      "text/plain": [
       "\u001b[36mstr1\u001b[39m: \u001b[32mString\u001b[39m = \u001b[32m\"hello\"\u001b[39m\n",
       "\u001b[36mn1\u001b[39m: \u001b[32mInt\u001b[39m = \u001b[32m10\u001b[39m"
      ]
     },
     "execution_count": 48,
     "metadata": {},
     "output_type": "execute_result"
    }
   ],
   "source": [
    "val MyCaseClass(str1, n1) = p1"
   ]
  },
  {
   "cell_type": "code",
   "execution_count": null,
   "metadata": {},
   "outputs": [],
   "source": []
  }
 ],
 "metadata": {
  "kernelspec": {
   "display_name": "Scala",
   "language": "scala",
   "name": "scala"
  },
  "language_info": {
   "codemirror_mode": "text/x-scala",
   "file_extension": ".scala",
   "mimetype": "text/x-scala",
   "name": "scala",
   "nbconvert_exporter": "script",
   "version": "2.12.11"
  }
 },
 "nbformat": 4,
 "nbformat_minor": 4
}
