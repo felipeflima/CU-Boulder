{
  "nbformat": 4,
  "nbformat_minor": 0,
  "metadata": {
    "colab": {
      "name": "Recitation 4",
      "provenance": []
    },
    "kernelspec": {
      "name": "python3",
      "display_name": "Python 3"
    },
    "language_info": {
      "name": "python"
    }
  },
  "cells": [
    {
      "cell_type": "markdown",
      "source": [
        "Recitation 4: Wireshark\n",
        "==================================\n",
        "\n",
        "In this lab we will be learning how to use Wireshark to capture packets which may contain sensitive data such as usernames and passwords.\n",
        "\n",
        "Wireshark is a network protocol analyzer which can capture and describe network packets. It is used for network troubleshooting, analysis, software and communications protocol development, and education. Its biggest advantages are free, open source and multi-platform support. Under the GNU General Public License, users can obtain the code for free and have the right to modify and customize its source code. Today it is one of the most widely used network packet analysis software in the world.\n",
        "\n",
        "Please note:\n",
        "- Wireshark is not intrusion detection software. Wireshark does not generate alerts or give any indication of unusual traffic behavior on the network. However, careful analysis of Wireshark's packet interceptions can help users gain a clearer understanding of network behavior.\n",
        "- Wireshark does not modify the content of network packets. It only reflects the current packet information in circulation. Wireshark also does not submit packets to the network. That is, you can only view packets instead of modifying or forwarding them.\n",
        "\n",
        "Typically, network administrators use wireshark to check network problems, software test engineers use wireshark to capture packets to analyze the software they test, and engineers engaged in network programming use wireshark to debug. However, it also can be used by someone with malicious intent to eavesdrop on network communications to capture sensitive data like usernames, passwords, emails, and so on. Now let's play the bad guy and see what Wireshark can do from a cybersecurity perspective.\n",
        "\n",
        "Firstly, let's install it on your local machine (Kali Linux includes Wireshark naturally). Please refer to following links or other online tutorials:\n",
        "- Linux: https://www.wireshark.org/docs/wsug_html_chunked/ChBuildInstallUnixInstallBins.html\n",
        "- Windows: https://www.wireshark.org/docs/wsug_html_chunked/ChBuildInstallWinInstall.html\n",
        "- MacOS: https://www.wireshark.org/docs/wsug_html_chunked/ChBuildInstallOSXInstall.html\n",
        "\n",
        "*Note: You will need to run the following commands from the same machine where you are running Wireshark. Most virtual machines will also work, but running on a remote computer such as coding.csel.io will not! Mac and Linux should have TELNET and SSH installed, as will up-to-date versions of Windows 10 and 11. You may need to enable TELNET using the directions here: https://social.technet.microsoft.com/wiki/contents/articles/38433.windows-10-enabling-telnet-client.aspx. You can also use a virtual machine such as Windows Subsystem for Linux, which can be installed using the directions here: https://docs.microsoft.com/en-us/windows/wsl/install.*\n",
        "\n",
        "Part 1: Remote login\n",
        "--------------------\n",
        "One common place where data is exchanged is remote login tools such as SSH or TELNET. These can be used to log into a terminal on a remote computer over the internet.\n",
        "\n",
        "TELNET\n",
        "------\n",
        "The Telnet protocol is an outdated, but common protocol for remote login services. It provides users with the ability to do remote host work from a local computer. Impoartantly, it is also entirely unencrypted! The default port number is 23.\n",
        "\n",
        "There is a TELNET server running on csci3403.com. Access it by running `telnet csci3403.com`. Use the following credentials:  \n",
        "\n",
        "**Username:** student  \n",
        "**Password:** CSCI3403-$tud3nt-@cc0unt\n",
        "\n",
        "*Note: Please **do not** take any malicious actions on this server, or modify any existing files! You can create files in the `tmp` folder if you would like, but please do not clutter up the home directory.*\n",
        "\n",
        "Log in while capturing packets with Wireshark. Run a couple commands- the file `secrets.txt` is available for you to look at. You can filter for TELNET traffic by typing `telnet` in the filter bar. Look at individual packets. What do you see? Right click on a packet and go to \"Follow\" > \"TCP Stream\" to see a visualization of all the data in the entire conversation. What do you see?\n",
        "\n",
        "SSH (Secure Shell Protocol)\n",
        "-------------------------\n",
        "SSH is a remote management tool similar to TELNET, but it is built securely and provides an encrypted tunnel. SSH encrypts data packets before transmission, which ensures the security of the transmitted data. The default port number is 22.\n",
        "\n",
        "All Computer Science students have access to an SSH server managed by the university. Access it by running `ssh <your identikey>@elra.cs.colorado.edu` and log in with your identikey password.\n",
        "\n",
        "Log in like you did with TELNET. You can filter for SSH traffic by typing `ssh` in the filter box. Observe individual packets and follow the TCP stream like you did before- what do you see now?\n",
        "\n",
        "Part 2: Web traffic\n",
        "-------------------\n",
        "\n",
        "HTTP (Hypertext Transfer Protocol)\n",
        "----\n",
        "\n",
        "HTTP protocol is used to transfer data between web client and web server. HTTP sends the content in plaintext without providing any data encryption, so if an attacker intercepts the transmission message, the attacker can directly read the information in it. Therefore, HTTP protocol is also not suitable for transferring sensitive information. The default port for the HTTP protocol is 80.\n",
        "\n",
        "Start wireshark and then launch any of below websites. \n",
        "- neverssl.com\n",
        "- insecure.csci3403.com\n",
        "\n",
        "After that, you can filter HTTP packets with `http`. You should be able to capture a packet which contains `200 OK` in its Info section. Select the packet and expand `Line-based text data: text/html` to see if you could find any contents.\n",
        "\n",
        "Please note: If you see `304 Not Modified` in a packet's Info, you should clear the cache and redo it since it means the resources are cached so no HTTP communication happened. (Caching is a technique that stores a copy of a given resource and serves it back when requested.)\n",
        "\n",
        "HTTPS (Hypertext Transfer Protocol Secure)\n",
        "-----\n",
        "\n",
        "To address the shortcoming of the HTTP protocol, HTTP Secure(HTTPS) protocol is required. HTTPS adds the SSL protocol to HTTP, which relies on certificates to authenticate the server and encrypt the communication between the client and the server. The default port for the HTTPS protocol is 443.\n",
        "\n",
        "Start wireshark and then launch any secure websites, like amazon.com, colorado.edu, etc. You can filter HTTPS packets with `tcp.port==443` and then to see if you could find anything useful."
      ],
      "metadata": {
        "id": "iJHRlrTwaJCU"
      }
    },
    {
      "cell_type": "code",
      "source": [
        ""
      ],
      "metadata": {
        "id": "lofLAlKE8c4O"
      },
      "execution_count": null,
      "outputs": []
    }
  ]
}