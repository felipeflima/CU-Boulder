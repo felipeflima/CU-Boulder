{
 "cells": [
  {
   "cell_type": "markdown",
   "metadata": {},
   "source": [
    "Recitation 2\n",
    "============\n",
    "\n",
    "In this recitation, we will perform an MD5 length extention attack. We will use library functions from the pymd5.py file from Canvas, so begin by downloading that and saving it in the same folder as the notebook."
   ]
  },
  {
   "cell_type": "markdown",
   "metadata": {},
   "source": [
    "Imagine a web service that allows users to pass multiple commands to a service using URL parameters (the values following the `?`, separated by `&`):\n",
    "\n",
    "https://example.com/api?token=1e755d78dcb4d783b2573b8d04fcc48a&user=admin&command1=ListFiles&command2=NoOp\n",
    "\n",
    "Here the `user` parameter is the current user, and there can be any number of `command1`, `command2`, etc. parameters to store the various commands sent to the server. The `token` parameter is used to authenticate the command, and is generated using `MD5([user’s 8-character password] + [the rest of the URL starting from user= and ending with the last command])`.\n",
    "\n",
    "Imagine an attacker wants to add a new command parameter, `command3=DeleteAllData`. They cannot simply append it to the query, as that would invalidate the token. They cannot generate a new token from scratch, as they need the user's password. However, they can use a **length extension attack** to extend the existing token with their new command. Your goal is to demonstrate this attack by using the code below to calculate a valid URL with the parameter `command3=DeleteAllData`."
   ]
  },
  {
   "cell_type": "markdown",
   "metadata": {},
   "source": [
    "_NOTE: The code below is what the students will be given_"
   ]
  },
  {
   "cell_type": "code",
   "execution_count": 3,
   "metadata": {},
   "outputs": [
    {
     "name": "stdout",
     "output_type": "stream",
     "text": [
      "https://example.com/api?token=d037150d6ddc74fff8db6e4d6d5bbf28&user=admin&command1=ListFiles&command2=NoOp%80%00%00%00%00%98%01%00%00%00%00%00%00&command3=DeleteAllFiles\n"
     ]
    }
   ],
   "source": [
    "import urllib\n",
    "\n",
    "import pymd5\n",
    "\n",
    "url = 'https://example.com/api?token=1e755d78dcb4d783b2573b8d04fcc48a&user=admin&command1=ListFiles&command2=NoOp'\n",
    "\n",
    "original_token = '1e755d78dcb4d783b2573b8d04fcc48a'\n",
    "original_query = 'user=admin&command1=ListFiles&command2=NoOp'\n",
    "malicious_extension = '&command3=DeleteAllFiles'\n",
    "\n",
    "# We cannot simply append to the end of the original query, as the original MD5\n",
    "# hash is based off the assumption that the message ends there, and some padding\n",
    "# has been added at the end. We will have to calculate that padding, and add it\n",
    "# before our malicious extension. This padding is based off the original message\n",
    "# length, so we need to calculate that first.\n",
    "\n",
    "# To calculate the padding, we need to know the message length. We also need to\n",
    "# account for the user's 8-character password, which we do not see, as well as\n",
    "# the length of the query which we do!\n",
    "original_message_length = len(original_query) + 8\n",
    "# The pymd5.padding function takes the padding length in *bits*, not *bytes*,\n",
    "# so we will have to convert when calculating it.\n",
    "message_padding = pymd5.padding(original_message_length * 8)\n",
    "\n",
    "# To recreate the state of the original message, we need the total message\n",
    "# length which includes both the original message, and the padding. This is\n",
    "# also in *bits*!\n",
    "total_message_length = (original_message_length + len(message_padding)) * 8\n",
    "\n",
    "# We now have enough information to recreate the state of the hash function at\n",
    "# the point where it left off originally.\n",
    "h = pymd5.md5(state=bytes.fromhex(original_token), count=total_message_length)\n",
    "\n",
    "# We can now calculate the hash H(m + a), where m is the orignal message (plus\n",
    "# padding!) and a is any new text that needs to be added. The h.update function\n",
    "# takes the additional text to append to the end.\n",
    "h.update(malicious_extension)\n",
    "\n",
    "updated_token = h.hexdigest()\n",
    "\n",
    "# Finally, the padding contains null and unprintable characters, so we need to\n",
    "# escape it so we can insert it as part of a URL.\n",
    "url_safe_padding = urllib.parse.quote(message_padding)\n",
    "\n",
    "# We now need to put the token, the original text, the escaped padding, and our\n",
    "# new addition back together into a final URL, in the same form as the orignal.\n",
    "updated_query = 'token={}&{}{}{}'.format(updated_token, original_query, url_safe_padding, malicious_extension)\n",
    "\n",
    "print('https://example.com/api?{}'.format(updated_query))"
   ]
  },
  {
   "cell_type": "markdown",
   "metadata": {},
   "source": [
    "The correct answer should have a token of `d037150d6ddc74fff8db6e4d6d5bbf2`"
   ]
  }
 ],
 "metadata": {
  "colab": {
   "collapsed_sections": [],
   "name": "Recitation 2",
   "provenance": []
  },
  "kernelspec": {
   "display_name": "Python 3 (ipykernel)",
   "language": "python",
   "name": "python3"
  },
  "language_info": {
   "codemirror_mode": {
    "name": "ipython",
    "version": 3
   },
   "file_extension": ".py",
   "mimetype": "text/x-python",
   "name": "python",
   "nbconvert_exporter": "python",
   "pygments_lexer": "ipython3",
   "version": "3.9.6"
  }
 },
 "nbformat": 4,
 "nbformat_minor": 4
}
