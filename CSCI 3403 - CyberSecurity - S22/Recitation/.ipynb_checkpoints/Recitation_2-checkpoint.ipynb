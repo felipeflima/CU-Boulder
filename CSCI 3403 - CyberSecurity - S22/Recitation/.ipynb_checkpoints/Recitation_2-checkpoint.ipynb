{
 "cells": [
  {
   "cell_type": "markdown",
   "metadata": {},
   "source": [
    "Recitation 2\n",
    "============\n",
    "\n",
    "In this recitation, we will perform an MD5 length extention attack. We will use library functions from the pymd5.py file from Canvas, so begin by downloading that and saving it in the same folder as the notebook."
   ]
  },
  {
   "cell_type": "markdown",
   "metadata": {},
   "source": [
    "Imagine a web service that allows users to pass multiple commands to a service using URL parameters (the values following the `?`, separated by `&`):\n",
    "\n",
    "https://example.com/api?token=1e755d78dcb4d783b2573b8d04fcc48a&user=admin&command1=ListFiles&command2=NoOp\n",
    "\n",
    "Here the `user` parameter is the current user, and there can be any number of `command1`, `command2`, etc. parameters to store the various commands sent to the server. The `token` parameter is used to authenticate the command, and is generated using `MD5([user’s 8-character password] + [the rest of the URL starting from user= and ending with the last command])`.\n",
    "\n",
    "Imagine an attacker wants to add a new command parameter, `command3=DeleteAllData`. They cannot simply append it to the query, as that would invalidate the token. They cannot generate a new token from scratch, as they need the user's password. However, they can use a **length extension attack** to extend the existing token with their new command. Your goal is to demonstrate this attack by using the code below to calculate a valid URL with the parameter `command3=DeleteAllData`."
   ]
  },
  {
   "cell_type": "markdown",
   "metadata": {},
   "source": [
    "_NOTE: The code below is what the students will be given_"
   ]
  },
  {
   "cell_type": "code",
   "execution_count": 9,
   "metadata": {},
   "outputs": [],
   "source": [
    "import urllib"
   ]
  },
  {
   "cell_type": "code",
   "execution_count": 15,
   "metadata": {},
   "outputs": [
    {
     "ename": "ModuleNotFoundError",
     "evalue": "No module named 'pymd5'",
     "output_type": "error",
     "traceback": [
      "\u001b[0;31m---------------------------------------------------------------------------\u001b[0m",
      "\u001b[0;31mModuleNotFoundError\u001b[0m                       Traceback (most recent call last)",
      "\u001b[0;32m<ipython-input-15-d7c025199bcb>\u001b[0m in \u001b[0;36m<module>\u001b[0;34m\u001b[0m\n\u001b[0;32m----> 1\u001b[0;31m \u001b[0;32mimport\u001b[0m \u001b[0mpymd5\u001b[0m\u001b[0;34m\u001b[0m\u001b[0;34m\u001b[0m\u001b[0m\n\u001b[0m",
      "\u001b[0;31mModuleNotFoundError\u001b[0m: No module named 'pymd5'"
     ]
    }
   ],
   "source": [
    "import pymd5"
   ]
  },
  {
   "cell_type": "code",
   "execution_count": 3,
   "metadata": {},
   "outputs": [
    {
     "ename": "NameError",
     "evalue": "name 'pymd5' is not defined",
     "output_type": "error",
     "traceback": [
      "\u001b[0;31m---------------------------------------------------------------------------\u001b[0m",
      "\u001b[0;31mNameError\u001b[0m                                 Traceback (most recent call last)",
      "\u001b[0;32m<ipython-input-3-925c1ad3629c>\u001b[0m in \u001b[0;36m<module>\u001b[0;34m\u001b[0m\n\u001b[1;32m     17\u001b[0m \u001b[0;31m# The pymd5.padding function takes the padding length in *bits*, not *bytes*,\u001b[0m\u001b[0;34m\u001b[0m\u001b[0;34m\u001b[0m\u001b[0;34m\u001b[0m\u001b[0m\n\u001b[1;32m     18\u001b[0m \u001b[0;31m# so we will have to convert when calculating it.\u001b[0m\u001b[0;34m\u001b[0m\u001b[0;34m\u001b[0m\u001b[0;34m\u001b[0m\u001b[0m\n\u001b[0;32m---> 19\u001b[0;31m \u001b[0mmessage_padding\u001b[0m \u001b[0;34m=\u001b[0m \u001b[0mpymd5\u001b[0m\u001b[0;34m.\u001b[0m\u001b[0mpadding\u001b[0m\u001b[0;34m(\u001b[0m\u001b[0;34m...\u001b[0m\u001b[0;34m)\u001b[0m\u001b[0;34m\u001b[0m\u001b[0;34m\u001b[0m\u001b[0m\n\u001b[0m\u001b[1;32m     20\u001b[0m \u001b[0;34m\u001b[0m\u001b[0m\n\u001b[1;32m     21\u001b[0m \u001b[0;31m# To recreate the state of the original message, we need the total message\u001b[0m\u001b[0;34m\u001b[0m\u001b[0;34m\u001b[0m\u001b[0;34m\u001b[0m\u001b[0m\n",
      "\u001b[0;31mNameError\u001b[0m: name 'pymd5' is not defined"
     ]
    }
   ],
   "source": [
    "url = 'https://example.com/api?token=1e755d78dcb4d783b2573b8d04fcc48a&user=admin&command1=ListFiles&command2=NoOp'\n",
    "\n",
    "original_token = '1e755d78dcb4d783b2573b8d04fcc48a'\n",
    "original_query = 'user=admin&command1=ListFiles&command2=NoOp'\n",
    "malicious_extension = '&command3=DeleteAllFiles'\n",
    "\n",
    "# We cannot simply append to the end of the original query, as the original MD5\n",
    "# hash is based off the assumption that the message ends there, and some padding\n",
    "# has been added at the end. We will have to calculate that padding, and add it\n",
    "# before our malicious extension. This padding is based off the original message\n",
    "# length, so we need to calculate that first.\n",
    "\n",
    "# To calculate the padding, we need to know the message length. We also need to\n",
    "# account for the user's 8-character password, which we do not see, as well as\n",
    "# the length of the query which we do!\n",
    "original_message_length = ...\n",
    "# The pymd5.padding function takes the padding length in *bits*, not *bytes*,\n",
    "# so we will have to convert when calculating it.\n",
    "message_padding = pymd5.padding(...)\n",
    "\n",
    "# To recreate the state of the original message, we need the total message\n",
    "# length which includes both the original message, and the padding. This is\n",
    "# also in *bits*!\n",
    "total_message_length = ...\n",
    "\n",
    "# We now have enough information to recreate the state of the hash function at\n",
    "# the point where it left off originally.\n",
    "h = pymd5.md5(state=bytes.fromhex(original_token), count=total_message_length)\n",
    "\n",
    "# We can now calculate the hash H(m + a), where m is the orignal message (plus\n",
    "# padding!) and a is any new text that needs to be added. The h.update function\n",
    "# takes the additional text to append to the end.\n",
    "h.update(...)\n",
    "\n",
    "updated_token = h.hexdigest()\n",
    "\n",
    "# Finally, the padding contains null and unprintable characters, so we need to\n",
    "# escape it so we can insert it as part of a URL.\n",
    "url_safe_padding = urllib.parse.quote(...)\n",
    "\n",
    "# We now need to put the token, the original text, the escaped padding, and our\n",
    "# new addition back together into a final URL, in the same form as the orignal.\n",
    "updated_query = ...\n",
    "\n",
    "print('https://example.com/api?{}'.format(updated_query))"
   ]
  },
  {
   "cell_type": "markdown",
   "metadata": {},
   "source": [
    "The correct answer should have a token of `d037150d6ddc74fff8db6e4d6d5bbf2`"
   ]
  }
 ],
 "metadata": {
  "colab": {
   "collapsed_sections": [],
   "name": "Recitation 2",
   "provenance": []
  },
  "kernelspec": {
   "display_name": "Python 3",
   "language": "python",
   "name": "python3"
  },
  "language_info": {
   "codemirror_mode": {
    "name": "ipython",
    "version": 3
   },
   "file_extension": ".py",
   "mimetype": "text/x-python",
   "name": "python",
   "nbconvert_exporter": "python",
   "pygments_lexer": "ipython3",
   "version": "3.8.5"
  }
 },
 "nbformat": 4,
 "nbformat_minor": 4
}
