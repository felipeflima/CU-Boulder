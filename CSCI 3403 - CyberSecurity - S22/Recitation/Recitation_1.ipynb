{
 "cells": [
  {
   "cell_type": "markdown",
   "metadata": {
    "id": "sTF1R0WSAdX2"
   },
   "source": [
    "Recitation 1: Encryption\n",
    "========================\n",
    "\n",
    "In this lab we will get hands-on experience with different encryption methods: The Caesar Cipher, AES, and RSA.\n",
    "\n",
    "Start by running the command below, to install the required libraries."
   ]
  },
  {
   "cell_type": "code",
   "execution_count": 1,
   "metadata": {
    "id": "SXCnfRhGDGAq"
   },
   "outputs": [
    {
     "name": "stdout",
     "output_type": "stream",
     "text": [
      "Collecting pycrypto\n",
      "  Downloading pycrypto-2.6.1.tar.gz (446 kB)\n",
      "\u001b[K     |████████████████████████████████| 446 kB 3.6 MB/s eta 0:00:01\n",
      "\u001b[?25hBuilding wheels for collected packages: pycrypto\n",
      "  Building wheel for pycrypto (setup.py) ... \u001b[?25ldone\n",
      "\u001b[?25h  Created wheel for pycrypto: filename=pycrypto-2.6.1-cp38-cp38-macosx_10_9_x86_64.whl size=492759 sha256=cc0dc7c2121455467ba84ae6b859a90c82a70a9c7f0880aa273f2a436e952d6e\n",
      "  Stored in directory: /Users/felipelima/Library/Caches/pip/wheels/d0/99/d0/0298ea019d63f1d63a0965b9944b719e875f9bd6ffc6dcf293\n",
      "Successfully built pycrypto\n",
      "Installing collected packages: pycrypto\n",
      "Successfully installed pycrypto-2.6.1\n"
     ]
    }
   ],
   "source": [
    "!pip install pycrypto"
   ]
  },
  {
   "cell_type": "markdown",
   "metadata": {
    "id": "PdGA2VBgDRur"
   },
   "source": [
    "First, let's come up with a plaintext string which we will encrypt. Imagine this is some text we want to keep secret. Feel free to replace it with something else, but this exercise works best when it's about a paragraph long:"
   ]
  },
  {
   "cell_type": "code",
   "execution_count": 4,
   "metadata": {
    "id": "QVmHy99lAdX5"
   },
   "outputs": [],
   "source": [
    "plaintext = (\n",
    "    \"The FitnessGram Pacer Test is a multistage aerobic capacity test that progressively gets more difficult as it continues. \"\n",
    "    \"The 20 meter pacer test will begin in 30 seconds. Line up at the start. The running speed starts slowly, but gets faster each minute after you hear this signal. \"\n",
    "    \"A single lap should be completed each time you hear this sound. Remember to run in a straight line, and run as long as possible.\")"
   ]
  },
  {
   "cell_type": "markdown",
   "metadata": {
    "id": "uXZVfd8nAdX7"
   },
   "source": [
    "Part 1: Caesar Cipher\n",
    "---------------------\n",
    "We would like to encrypt this message so that only we can read it. Let's start off by using a caesar cypher: this is a simple method of scrambling a message, by shifting each character by a secret amount. So if the secret were three, \"a\" would shift three letters to become \"d\", \"h\" would become \"k\", and so on. We can define a function to do this given a plaintext string and a secret shift value:"
   ]
  },
  {
   "cell_type": "code",
   "execution_count": 5,
   "metadata": {
    "id": "QDo78UQOAdX8"
   },
   "outputs": [],
   "source": [
    "import string\n",
    "\n",
    "def caesar_cipher(plaintext: str, secret: int):\n",
    "    # This function shifts a single character.\n",
    "    def shift_char(char: str):\n",
    "        # Ignore special characters.\n",
    "        if char not in string.ascii_letters:\n",
    "            return char\n",
    "\n",
    "        # We need to do a little math so that letters at the end of the alphabet wrap around.\n",
    "        if char.isupper():\n",
    "            return chr((ord(char) - ord(\"A\") + secret) % 26 + ord(\"A\"))\n",
    "        else:\n",
    "            return chr((ord(char) - ord(\"a\") + secret) % 26 + ord(\"a\"))\n",
    "    \n",
    "    # Shift each character by the secret amount\n",
    "    shifted_chars = [shift_char(char) for char in plaintext]\n",
    "\n",
    "    # Join them back into a string\n",
    "    return \"\".join(shifted_chars)"
   ]
  },
  {
   "cell_type": "markdown",
   "metadata": {
    "id": "WZH6HqFbAdX9"
   },
   "source": [
    "Now when we run the code below, we can see that we've scrambled the text, and nobody can read it without the secret key! ...right?"
   ]
  },
  {
   "cell_type": "code",
   "execution_count": 6,
   "metadata": {
    "id": "FrRc8QaaAdX9"
   },
   "outputs": [
    {
     "name": "stdout",
     "output_type": "stream",
     "text": [
      "Ciphertext:\n",
      "===========\n",
      "Aol MpaulzzNyht Whjly Alza pz h tbsapzahnl hlyvipj jhwhjpaf alza aoha wyvnylzzpclsf nlaz tvyl kpmmpjbsa hz pa jvuapublz. Aol 20 tlaly whjly alza dpss ilnpu pu 30 zljvukz. Spul bw ha aol zahya. Aol ybuupun zwllk zahyaz zsvdsf, iba nlaz mhzaly lhjo tpubal hmaly fvb olhy aopz zpnuhs. H zpunsl shw zovbsk il jvtwslalk lhjo aptl fvb olhy aopz zvbuk. Yltltily av ybu pu h zayhpnoa spul, huk ybu hz svun hz wvzzpisl.\n"
     ]
    }
   ],
   "source": [
    "secret_key = 7\n",
    "\n",
    "ciphertext = caesar_cipher(plaintext, secret_key)\n",
    "\n",
    "print(\"Ciphertext:\")\n",
    "print(\"===========\")\n",
    "print(ciphertext)"
   ]
  },
  {
   "cell_type": "markdown",
   "metadata": {
    "id": "IehmbYWhAdX-"
   },
   "source": [
    "We can reverse the process by shifting backwards by the same amount. Only the same secret will work however, and shifting by a different amount will still result in scrambled text:"
   ]
  },
  {
   "cell_type": "code",
   "execution_count": 7,
   "metadata": {
    "id": "gkIoO5bPAdX-"
   },
   "outputs": [
    {
     "name": "stdout",
     "output_type": "stream",
     "text": [
      "Plaintext:\n",
      "==========\n",
      "The FitnessGram Pacer Test is a multistage aerobic capacity test that progressively gets more difficult as it continues. The 20 meter pacer test will begin in 30 seconds. Line up at the start. The running speed starts slowly, but gets faster each minute after you hear this signal. A single lap should be completed each time you hear this sound. Remember to run in a straight line, and run as long as possible.\n",
      "\n",
      "Incorrect plaintext (uses the wrong secret key):\n",
      "==========\n",
      "Uif GjuofttHsbn Qbdfs Uftu jt b nvmujtubhf bfspcjd dbqbdjuz uftu uibu qsphsfttjwfmz hfut npsf ejggjdvmu bt ju dpoujovft. Uif 20 nfufs qbdfs uftu xjmm cfhjo jo 30 tfdpoet. Mjof vq bu uif tubsu. Uif svoojoh tqffe tubsut tmpxmz, cvu hfut gbtufs fbdi njovuf bgufs zpv ifbs uijt tjhobm. B tjohmf mbq tipvme cf dpnqmfufe fbdi ujnf zpv ifbs uijt tpvoe. Sfnfncfs up svo jo b tusbjhiu mjof, boe svo bt mpoh bt qpttjcmf.\n"
     ]
    }
   ],
   "source": [
    "print(\"Plaintext:\")\n",
    "print(\"==========\")\n",
    "print(caesar_cipher(ciphertext, -secret_key))\n",
    "print()\n",
    "print(\"Incorrect plaintext (uses the wrong secret key):\")\n",
    "print(\"==========\")\n",
    "print(caesar_cipher(ciphertext, -secret_key + 1))"
   ]
  },
  {
   "cell_type": "markdown",
   "metadata": {
    "id": "E7g8xKdZAdX_"
   },
   "source": [
    "Part 1a: Brute Forcing\n",
    "---------------------\n",
    "So far, this cipher can scramble a message so it cannot be read, and it can only be unscrambled with the secret key. We're secure now, right? Well, not really. For one thing, there's only 25 possible shifts you can make before the characters loop back around. An attacker could simply try each one and see which one is correct. Below is some unknown ciphertext, see if you can figure out what it is just by iterating through all 25 shifts:"
   ]
  },
  {
   "cell_type": "code",
   "execution_count": 9,
   "metadata": {
    "id": "Mgq4vSJbAdYA"
   },
   "outputs": [
    {
     "name": "stdout",
     "output_type": "stream",
     "text": [
      "Aipp, xlex aew vieppc iewc xs fvieo.\n",
      "Bjqq, ymfy bfx wjfqqd jfxd yt gwjfp.\n",
      "Ckrr, zngz cgy xkgrre kgye zu hxkgq.\n",
      "Dlss, aoha dhz ylhssf lhzf av iylhr.\n",
      "Emtt, bpib eia zmittg miag bw jzmis.\n",
      "Fnuu, cqjc fjb anjuuh njbh cx kanjt.\n",
      "Govv, drkd gkc bokvvi okci dy lboku.\n",
      "Hpww, esle hld cplwwj pldj ez mcplv.\n",
      "Iqxx, ftmf ime dqmxxk qmek fa ndqmw.\n",
      "Jryy, gung jnf ernyyl rnfl gb oernx.\n",
      "Kszz, hvoh kog fsozzm sogm hc pfsoy.\n",
      "Ltaa, iwpi lph gtpaan tphn id qgtpz.\n",
      "Mubb, jxqj mqi huqbbo uqio je rhuqa.\n",
      "Nvcc, kyrk nrj ivrccp vrjp kf sivrb.\n",
      "Owdd, lzsl osk jwsddq wskq lg tjwsc.\n",
      "Pxee, matm ptl kxteer xtlr mh ukxtd.\n",
      "Qyff, nbun qum lyuffs yums ni vlyue.\n",
      "Rzgg, ocvo rvn mzvggt zvnt oj wmzvf.\n",
      "Sahh, pdwp swo nawhhu awou pk xnawg.\n",
      "Tbii, qexq txp obxiiv bxpv ql yobxh.\n",
      "Ucjj, rfyr uyq pcyjjw cyqw rm zpcyi.\n",
      "Vdkk, sgzs vzr qdzkkx dzrx sn aqdzj.\n",
      "Well, that was really easy to break.\n",
      "Xfmm, uibu xbt sfbmmz fbtz up csfbl.\n",
      "Ygnn, vjcv ycu tgcnna gcua vq dtgcm.\n"
     ]
    }
   ],
   "source": [
    "unknown_ciphertext = \"Aipp, xlex aew vieppc iewc xs fvieo.\"\n",
    "for x in range (0,25):\n",
    "    print(caesar_cipher(unknown_ciphertext, x))"
   ]
  },
  {
   "cell_type": "markdown",
   "metadata": {
    "id": "HIQyXWPqAdYB"
   },
   "source": [
    "Part 1b: Frequency Analysis\n",
    "--------------------------\n",
    "\n",
    "The small number of possiblities isn't the only problem, however. The Caesar Cipher does not scramble the characters very much, and there are a lot of patterns that we can use to determine the secret key. One tactic is frequency analysis: looking at which letters show up most often. The English language uses some letters more than others, so letters like \"E\", \"A\", and \"T\" are very common while letters like \"Z\", \"X\", and \"J\" are almost never used. We can find these frequencies online, and graph the result:"
   ]
  },
  {
   "cell_type": "code",
   "execution_count": 10,
   "metadata": {
    "id": "sPvbBckYAdYC"
   },
   "outputs": [
    {
     "data": {
      "image/png": "[encoded data removed]",
      "text/plain": [
       "<Figure size 432x288 with 1 Axes>"
      ]
     },
     "metadata": {
      "needs_background": "light"
     },
     "output_type": "display_data"
    }
   ],
   "source": [
    "import matplotlib.pyplot as plt\n",
    "import numpy as np\n",
    "%matplotlib inline\n",
    "\n",
    "letter_frequencies = {\n",
    "    'A': 8.167,\n",
    "    'B': 1.492,\n",
    "    'C': 2.782,\n",
    "    'D': 4.253,\n",
    "    'E': 12.702,\n",
    "    'F': 2.228,\n",
    "    'G': 2.015,\n",
    "    'H': 6.094,\n",
    "    'I': 6.996,\n",
    "    'J': 0.153,\n",
    "    'K': 0.772,\n",
    "    'L': 4.025,\n",
    "    'M': 2.406,\n",
    "    'N': 6.749,\n",
    "    'O': 7.507,\n",
    "    'P': 1.929,\n",
    "    'Q': 0.095,\n",
    "    'R': 5.987,\n",
    "    'S': 6.327,\n",
    "    'T': 9.056,\n",
    "    'U': 2.758,\n",
    "    'V': 0.978,\n",
    "    'W': 2.360,\n",
    "    'X': 0.150,\n",
    "    'Y': 1.974,\n",
    "    'Z': 0.074\n",
    "}\n",
    "\n",
    "plt.bar(letter_frequencies.keys(), letter_frequencies.values())\n",
    "\n",
    "plt.show()"
   ]
  },
  {
   "cell_type": "markdown",
   "metadata": {
    "id": "2cFH8yoJAdYC"
   },
   "source": [
    "Now, let's write a function to show the letter frequencies of a particular piece of text, and pass it the plaintext and the ciphertext from earlier:"
   ]
  },
  {
   "cell_type": "code",
   "execution_count": 11,
   "metadata": {
    "id": "uuYP6nrsAdYD"
   },
   "outputs": [
    {
     "data": {
      "image/png": "[encoded data removed]",
      "text/plain": [
       "<Figure size 432x288 with 1 Axes>"
      ]
     },
     "metadata": {
      "needs_background": "light"
     },
     "output_type": "display_data"
    },
    {
     "data": {
      "image/png": "[encoded data removed]",
      "text/plain": [
       "<Figure size 432x288 with 1 Axes>"
      ]
     },
     "metadata": {
      "needs_background": "light"
     },
     "output_type": "display_data"
    }
   ],
   "source": [
    "from collections import Counter\n",
    "import base64\n",
    "\n",
    "def show_frequencies(s: str):\n",
    "    character_counts = Counter(s.upper())\n",
    "\n",
    "    plt.bar(list(string.ascii_uppercase), [character_counts.get(char, 0) for char in string.ascii_uppercase])\n",
    "    plt.show()\n",
    "\n",
    "show_frequencies(plaintext)\n",
    "show_frequencies(ciphertext)"
   ]
  },
  {
   "cell_type": "markdown",
   "metadata": {
    "id": "FdlcxzkQAdYD"
   },
   "source": [
    "The plaintexttext (the first graph) should look very to the average English Language frequency from before! The ciphertext (the second graph) looks different, however: because we are changing each character by the same amount, the graph has been shifted. However, it is easy to tell how far it was shifted just by looking at it! By looking at the very common or very uncommon letters, it is possible to tell how far they have shifted between the two graphs. This number is the supposedly \"secret\" key! Below is a large block of new ciphertext, and you are not given the secret key. See if you can calculate the key by looking at the frequency graph, without brute-forcing it."
   ]
  },
  {
   "cell_type": "code",
   "execution_count": 13,
   "metadata": {
    "id": "whbdINPQAdYE"
   },
   "outputs": [
    {
     "data": {
      "image/png": "[encoded data removed]",
      "text/plain": [
       "<Figure size 432x288 with 1 Axes>"
      ]
     },
     "metadata": {
      "needs_background": "light"
     },
     "output_type": "display_data"
    },
    {
     "name": "stdout",
     "output_type": "stream",
     "text": [
      "The FitnessGram Pacer Test is a multistage aerobic capacity test that progressively gets more difficult as it continues. The 20 meter pacer test will begin in 30 seconds. Line up at the start. The running speed starts slowly, but gets faster each minute after you hear this signal. A single lap should be completed each time you hear this sound. Remember to run in a straight line, and run as long as possible.\n"
     ]
    }
   ],
   "source": [
    "new_ciphertext = (\n",
    "    \"Nby ZcnhymmAlug Juwyl Nymn cm u gofncmnuay uylivcw wujuwcns nymn nbun jlialymmcpyfs aynm gily xczzcwofn um cn wihnchoym. \"\n",
    "    \"Nby 20 gynyl juwyl nymn qcff vyach ch 30 mywihxm. Fchy oj un nby mnuln. Nby lohhcha mjyyx mnulnm mfiqfs, von aynm zumnyl yuwb gchony uznyl sio byul nbcm mcahuf. \"\n",
    "    \"U mchafy fuj mbiofx vy wigjfynyx yuwb ncgy sio byul nbcm miohx. Lygygvyl ni loh ch u mnlucabn fchy, uhx loh um fiha um jimmcvfy.\")\n",
    "\n",
    "show_frequencies(new_ciphertext)\n",
    "print(caesar_cipher(new_ciphertext, 6))\n"
   ]
  },
  {
   "cell_type": "markdown",
   "metadata": {
    "id": "22R3em8CAdYE"
   },
   "source": [
    "Part 2: AES\n",
    "===========\n",
    "\n",
    "We can see that the Caesar Cipher is not a useful method of keeping data safe. Instead, we will use the more complex AES cipher. The AES cipher performs a much more complicated operation than simply shifting the character, which we won't go into depth on here, but suffice to say it leaves the output sufficiently scrambled. It also uses a much longer secret: a string of bits, which can be as long as necessary to ensure security."
   ]
  },
  {
   "cell_type": "code",
   "execution_count": 14,
   "metadata": {
    "id": "mW9SBjU9AdYF"
   },
   "outputs": [
    {
     "name": "stdout",
     "output_type": "stream",
     "text": [
      "b'\\xdc\\x0cM\\x9d\\xc4\\x0b\\xdb\\xd1\\x86\\x9f9\\xd3\\xb4}\\x1b\\x89\"\\x12gH\\xf4\\x1f\\x16\\x9f\\x9d\\xcaw\\xcer]\\x94q\\xc8\\xb0\\xd1\\x9dOP!y\\xacb\\xd8\\xefj\\x81\\xfdS\\xb75\\xfcg\\x91t\\xf8\\xc4\\xa3 \\x93l_\\x02s\\xb0\\xcdQ\\x0c\\x11\\xa4\\x01R\\xe8]\\x89o1\\x1f\\xb8&_\\\\\\xfc\\xdb\\rd\\x8c\\x98t\\x0e`\\xc6;\\xf7\\xdf2\\xa3S-l\\x1aQQ\\xbe\\xc8\\x11c~\\x8db\\n\\xba\\xe8?.B\\xe4o\\x12\\xdd\\xdf\\xe9\\xbf\\xf3\\x86\\x9fi\\xe7\\xbf\\x9d\\xb7|\\xdb*N\\x89\\x9dZ 3\\xdd\\x90\\x89\\x8c\\x86\\x08\\x9e\\x88\\xcb\\xe0\\x10\\xa2Im\\x8c\\xb0\\x80\\xa9\\xfc2z\\xcee\\x1d\\xe1,\\t\\xb9CNG\\xa1\\xc3k\\xf2\\xdc\\x95\\xc1\\xae\\r\\xcd\\x81\\xa7\\xc9x\\x1c\\x1e\\xa4\\xe1\\xaf\\xf1\\xf5\\xf0\\xf5\\x86\\t\\xb4+\\xe2m\\xeaW\\xf1\\xbc\\xc3z\\x12a}\\xff:s\\xfd<3\\xfd\\xf1\\xa7\\x81Bb\\xfe\\x1b\\xf8\\xbc\\xa6\\x1ac\"[\\x9f\\x1a\\xa9\\xf8\\xda\\xec\\x85F\\x91p\\xd0*S8{\\x83\\x0c\\xd2\\xb0\\xf0\\xf7G\\x0e\\x14X\\xcaEp\\xf2\\x07;\\x19Da\\x86\\x7f\\xc6\\xc1\\n\\r\\x88\\xf8\\x16si\\xfaX\\x94>\\xb2,:g\\xce\\x81\\xa8\\xf0\\x89\\xbe\\xb7I^]\\x06b\\xb2\\x93{\\xfeG\\x90\\x17\\x18Ya\\x98?\\ry\\xcaA\\xdfL\\x8f07k\\xc7\\xa2\\xf1N\\x88\\xef\\xbe\\xfba\\x80\\xfd\\xd7\\xa330\\xf0\\xd2H&G\\x97\\x91nzj-\\x80\\x9d\\xf8\\xf4\\x16\\x89:\\xf8\\xfe\\x801\\x13$Cua\\x1c\\xd7\\xc6=\\xc5C\\x83B\\x19\\x8e\\x06\\x19}\\x84\\xf0\\xfaF\\xcc\\tI\\x19\\x03)E0\\xbbs5\\x85\\xf3\\x9c\\xaf\\x9fb\\xdd?\\xc8\\xb0\\xa9I\\xf9\\xcfC\\xab\\xc8\\x89\\xb7\\x8d\\x05*X\\xc1\\xd65\\xd6\\xb7\\xd2\\x1e'\n"
     ]
    }
   ],
   "source": [
    "from Crypto.Cipher import AES\n",
    "\n",
    "# Rather than an integer, the secret is now a long string of bytes (length must be a power of 2)\n",
    "secret = 'GZktMap1FgML5sa2'\n",
    "aes_cipher = AES.new(secret, AES.MODE_ECB)\n",
    "\n",
    "# The plaintext must be a multiple of 16 for the cipher to work, so we add some '0's to the end as padding.\n",
    "# We haven't implemented a way of removing this padding afterwards yet, so you may still see it in the output.\n",
    "padding = '0' * (16 - (len(plaintext) % 16))\n",
    "\n",
    "aes_ciphertext = aes_cipher.encrypt(plaintext + padding)\n",
    "\n",
    "print(aes_ciphertext)"
   ]
  },
  {
   "cell_type": "markdown",
   "metadata": {
    "id": "qc0qHNsqAdYF"
   },
   "source": [
    "We can see immidiately that the output is far more scrambled than before. There is no resembalance to the original string. We can still decrypt this by reversing the operation, but doing so requires the same secret as before. Using the wrong secret fails to decrypt the ciphertext, and the result is still scrambled!"
   ]
  },
  {
   "cell_type": "code",
   "execution_count": 15,
   "metadata": {
    "id": "ZAjnJvVPAdYG"
   },
   "outputs": [
    {
     "name": "stdout",
     "output_type": "stream",
     "text": [
      "Original secret\n",
      "===============\n",
      "b'The FitnessGram Pacer Test is a multistage aerobic capacity test that progressively gets more difficult as it continues. The 20 meter pacer test will begin in 30 seconds. Line up at the start. The running speed starts slowly, but gets faster each minute after you hear this signal. A single lap should be completed each time you hear this sound. Remember to run in a straight line, and run as long as possible.000000'\n",
      "\n",
      "Incorrect secret\n",
      "================\n",
      "b'\\xb5~\\x80\\xed\\x87\\xb7\\xae\\x02\\xd3\\x19\\x81\\xac\\xd90\\x045/)j\\xcf\\xaf\\xbc\\x96\\xe5\\xd7w[\\xfc\\xaa\\xc6K\\xe0\\x85\\xcd\\xd7i-3a\\xa2\\xb8<\\x8a\\xdc\\xed5\\x9cE`\\x9a\\x9ax\\xebWOw\\xe3\\xc4\\x97e\\x9ao\\x12]9U\\xe4\\xee\\xe7\\xdc\\x85\\xd1,B\\xb8\\xff}\\x03`\\x12\\x02\\t\\xf1l\\xaf;\\x04<\\xc2Y77\\xae\\x88\\xc3^3\\x16z\\xab\\x88\\x17\\x16\\xf0,\\xaa\\xc3\\xa5\\xab\\x9c\\x00K\\xdb!R3;HBH\\'\\x1b\\xc2\\x84\\xf6)2\\xa0\\'\\xc8?\"\\xa7\\x00\\xd5|\\xe1@\\x16\\x08\\xddT\\xd4P\\xcfm\\x85&\\xf9\\xd5\\xdfr\\x89\\xa2\\xffrw\\xce\\x9e\\xc7=\\xd0\\xca\\xb5\\x05\\xc8\\x11N\\x9eE\\xf9\\xe3\\xad\\xefh\\xdb\\x86n\\xf3\\xbc8\\x96\\\\\\xb2\\xaf\\xca\\x03\\x94V\\xce\\x1dw\\xdb\\xf7IQ6\\x9c\\x8b\\xa8\\xf2\\xca\\xee\\xb6,\\xe0F\\xafb\\n\\x96\\xc4D\\x1b\\x9c\\xc5\\x83\\x150\\xbf\\xbaul\\xfd}\\xc2\\x95\\x88\\xd89\\xc6=2#\\x7f\\xdeTE<\\xa0\\xc4\\xe0\\x0fJ*V\\xc0+\\xc3J\\xe8\\x16\\xf5\\x18\\xc1\\xf7qF0\\xe4H:\\xfb\\xdd\\xa3#\\x0c\\xde\\xb3\\xe0\\x1c\\x9bgf\\xe2\\xeca\\x00\\x16\\x99\\xc6*u\\n\\xb5\\x0c\\x11\\xc5\\x1b&\\xaf\\x8em\\x88\\xeb\\xd8xIn3(\\x03.1\\x9eO\\xc9\\xfe\\xcbp\\xd4MlK\\r\\x06\\x8f\\x05\\xf2\\xbb\\xc6=Q\\x8e\\xb6\\xfc6\\x7fPr\\x11\\x82\\x89\\xca\\x80 \\x01E6\\xc4s%\\xa6\\x9f9!\\xf2\\xb3o\\xdaJg\\xaa\\xe9C\\xf1.\\x0cj\\xaa\\xd3\\xeb\\xe3\\xb7\\xbc\\x9b\\x89a\\x85\\xc7h\\xc6\\xf4\\xc8\\x9b\\x94?\\xab\\x99(M\\x90IA\\x8a\\x9c\\x7fD\\x96\\xb0\\x9c\\xd7\\xe8\\xbdy\\xd2\\x9b\\xa4\\x0fC\\xc2-\\xf0\\xae{\\xcd\\xf3\\xaf\\xe8h\\x1e=\\xff\\x021\\xcf'\n"
     ]
    }
   ],
   "source": [
    "print('Original secret')\n",
    "print('===============')\n",
    "print(AES.new(key=secret, mode=AES.MODE_ECB).decrypt(aes_ciphertext))\n",
    "print()\n",
    "print('Incorrect secret')\n",
    "print('================')\n",
    "print(AES.new(key='thisisincorrect!', mode=AES.MODE_ECB).decrypt(aes_ciphertext))"
   ]
  },
  {
   "cell_type": "markdown",
   "metadata": {
    "id": "5SjrKjeQAdYG"
   },
   "source": [
    "Because the secret is now a long string and not a small integer, brute-forcing the secret is much harder. This secret is 128 bits long, meaning there are **340,282,366,920,938,463,463,374,607,431,768,211,456** possible options! Here is one last piece of ciphertext, see if you can reverse it without knowing the secret in advance."
   ]
  },
  {
   "cell_type": "code",
   "execution_count": 16,
   "metadata": {
    "id": "AlXJK4jwAdYG"
   },
   "outputs": [
    {
     "name": "stdout",
     "output_type": "stream",
     "text": [
      "b'\\xf4\\xe4\\x1f\\xc3\\xe2Y\\x90Sk\\xba\\x84\\xc2\\xd3\\n\\xfa38\\x08{\\xbf\\xc3\\xb6%\\x1c\\xc1\\xaa!\\x9e\\xf1\\xa1v\\x01\\xac\\x9d\\xfbB\\x1c2%\\xb3g\\xe809\\xff\\xc5\\xad\\x81D\\xcb\\xe4L\\xd2j\\xbc\\xba\\x8dB\\xd9\\x1bi@\\x89\\t}H\\x1c\\xd3\\xceQ\\x19E~\\x978\\xeb\\xfd=\\xf2Ar\\xcc\\xc2hY\\xe0\\x86\\x94\\xfb<NI\\xf2\\x08T\\x05s;\\x905i_\\xd4\\x90\\xc4_\\x1e\\x12qD4\\xbfnX9\\xbdS\\xe2d\\x9e\\x8dw\\x93G4\\xa6\\x9a\\xfdFQ-\\xa7H\\xf9}\\xba\\xcf5\\x82\\xa6\\\\ @\\xc2'\n"
     ]
    }
   ],
   "source": [
    "new_aes_ciphertext = (\n",
    "    b\"K\\xa6\\tz\\xd5Q\\x11\\x07\\xc9\\xa5\\x19pX\\xbb\\xd4\\x1e\\xcb\\x99\\xfbow&\\xfdy\\xcc\\x1e\\xf1\\xc4\\x999V\\xb8\\xb6\\x1d\\xbf\\x7f\\xc9\\xbe\\xf6\"\n",
    "    b\"\\xd5\\x10\\xbc\\x07|0\\xb3O\\xd2\\x07\\x99\\xfcr\\x05\\xd9\\xc6\\xc8\\xae\\xdb\\xe3\\xc7g\\xde%\\x02\\xfb\\xfe\\xb4\\x86\\xa3\\xa2\\x1c\\xd0h\\xb3\\xd6\"\n",
    "    b\"oT;\\x1fo\\xb4\\xef\\x7f^M\\xaa1\\x8di\\x16o\\xceg|\\\\\\xfc\\t\\xcc\\x8f\\x10\\xc9\\xb7\\x120g?/\\xb0\\xc5\\xd5\\xfc\\x1bJI!\\x00\\xfd\\xdd\\x94\\xe6,\"\n",
    "    b\"(\\xc2\\x0fJ\\x96\\xdc\\xca\\xd3^\\xc3\\xe7\\x86\\xd5\\xe2\\x95\\xe9\\xbfnh\\xd0\\xce\\xf1;\")\n",
    "\n",
    "secret = '????????????????'\n",
    "aes_cipher = AES.new(secret, AES.MODE_ECB)\n",
    "\n",
    "print(aes_cipher.decrypt(new_aes_ciphertext))"
   ]
  }
 ],
 "metadata": {
  "colab": {
   "collapsed_sections": [],
   "name": "Recitation 1",
   "provenance": []
  },
  "kernelspec": {
   "display_name": "Python 3",
   "language": "python",
   "name": "python3"
  },
  "language_info": {
   "codemirror_mode": {
    "name": "ipython",
    "version": 3
   },
   "file_extension": ".py",
   "mimetype": "text/x-python",
   "name": "python",
   "nbconvert_exporter": "python",
   "pygments_lexer": "ipython3",
   "version": "3.8.5"
  }
 },
 "nbformat": 4,
 "nbformat_minor": 1
}
