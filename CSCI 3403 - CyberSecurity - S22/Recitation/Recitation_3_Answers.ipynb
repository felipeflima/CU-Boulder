{
  "nbformat": 4,
  "nbformat_minor": 0,
  "metadata": {
    "colab": {
      "name": "Recitation 3 Answers",
      "provenance": []
    },
    "kernelspec": {
      "name": "python3",
      "display_name": "Python 3"
    },
    "language_info": {
      "name": "python"
    }
  },
  "cells": [
    {
      "cell_type": "markdown",
      "source": [
        "Recitaition 3: Computer Networking\n",
        "==================================\n",
        "\n",
        "In this lab we will experiment with the building blocks of the internet: IP addresses, ports, and domain names.\n",
        "\n",
        "Part 1: IP addresses and Domain Names\n",
        "-------------------------------------\n",
        "\n",
        "For this exercise, we will be learning more about the website https://csci3403.com. The name \"csci3403.com\" is the **domain name** of the website, but to access it over the internet we need to know the **IP address**. We can discover that by performing a DNS query using the `host` command (`nslookup` on Windows).\n",
        "\n",
        "- Run `host csci3403.com`. What is the server's IP address?  \n",
        "  _34.68.147.105._\n",
        "- Enter that address into your web browser- what do you see?  \n",
        "  _You should see the same thing as if you went to csci3403.com directly. Unless I messed up the nginx config again..._\n",
        "\n",
        "Domain names and IP addresses can be purchased by specific individuals or organizations. Information about their owners is public knowledge, and can be accessed from sites like https://lookup.icann.org/.\n",
        "\n",
        "- Search for the domain name \"csci3403.com\". Which domain registrar was it purchased from?  \n",
        "  _Namecheap_\n",
        "- Search for the IP address from earlier:\n",
        "  - Who is the IP address owned by?  \n",
        "    _Google LLC, specifically Google Cloud._\n",
        "  - This particular address is one of many that were purchased in a block (listed by the \"Address Range\" field). What is that block? How many IP addresses are in it?  \n",
        "    _34.64.0.0 - 34.127.255.255, which contains 4,194,302 addresses._\n",
        "\n",
        "  - Given what we know about the IP owner, what do we know about the website https://csci3403.com and how it is being hosted?  \n",
        "    _We can guess that it is being hosted through Google Cloud, and is using one of their leased IP addresses._\n",
        "\n",
        "- Find your own IP address, using the `ifconfig` command on Linux or `ipconfig` command on Windows. It likely starts with `192.168` or `10`, why is that? How is it different than the IP address for https://csci3403.com?  \n",
        "  _You own IP address is a private IP address, meaning it is not unique nor is it accessable from the outside internet._\n",
        "- See what IP address other websites see when you connect to them, by looking up `what is my ip` on Google or going to a site like https://whatismyipaddress.com/. Why is this different than the address from the previous step?  \n",
        "  _This is the public address of your router. Your router replaces your IP address with its own when it sends packets over the internet, so that only one IP address is needed, and to prevent unwanred connections to your computer. This process is called Network Address Translation, or NAT._\n",
        "\n",
        "Part 2: Ports\n",
        "-------------\n",
        "\n",
        "If a single website would like to host multiple services, it does so by assigning each service a unique **port** number from 0-65535. Ports are specified with the notation `<hostname or ip address>:<port>`.\n",
        "\n",
        "- Specify port 443 (the default encrypted web port) by going to https://csci3403.com:443 (note that most browsers will not display the default port). What happens?  \n",
        "  _It displays the webpage like normal._\n",
        "- Try to specify a different port, say https://csci3403.com:444. What happens? Why?  \n",
        "  _It fails to connect, as there is no program listening on that port._\n",
        "\n",
        "Because there are only 65536 different port numbers, we can test each one fairly quickly. One tool for this is `nmap`- directions to install it locally can be found at https://nmap.org, but you can download it as a static binary to a Jupyter Notebook by running the following commands:\n",
        "\n",
        "`$ wget https://github.com/andrew-d/static-binaries/raw/master/binaries/linux/x86_64/nmap`  \n",
        "`$ chmod +x nmap`\n",
        "\n",
        "**Note: You have permission to use nmap to scan https://csci3403.com, but do not use it to scan other websites without permission. See https://nmap.org/book/legal-issues.html for more information on the legal aspect of this.**\n",
        "\n",
        "- Test which of the first 2000 ports are active by running the command `./nmap csci3403.com -p 1-2000`. What do you see?  \n",
        "  _You should see port 22 (SSH), port 80 (HTTP), port 443 (HTTPS), and port 1234 (unknown)._\n",
        "- There are a few services running on the normal \"default\" ports. What are they? Look up each one- what are they doing? Are any of them a potential security risk?  \n",
        "  _Port 22 (SSH), port 80 (HTTP), and port 443 (HTTPS) are all running on the normal default ports. The SSH login needs to be secure or else someone can log into the server._\n",
        "\n",
        "Part 3: Netcat\n",
        "==============\n",
        "\n",
        "We can send and receive raw data over the internet using the program `netcat`, which is abbreviated as `nc`.\n",
        "- We can connect to a remote server with the command `nc <host> <port>`. Try connecting to Google on the default HTTP port with `nc google.com 80`. You can then request the main Google page by typing `GET / HTTP/1.0` followed by two newlines (this will get the page in raw text format, but you can get the idea).\n",
        "- Netcat can be used as both a client, and a server. Open two terminal windows, and pick a port number. This can be any number between 1023 and 65535, as long as nobody else is using it. In one window, run `nc -l <port>` to start listening for connections on that port, and in the other, run `nc 127.0.0.1 <port>` to connect to the first window. `127.0.0.1` is a special IP address that tells Netcat to connect to a port on the local computer, rather than another computer over the internet. You should now be able to send text from either Netcat instance, and see it received by the other one. If you have time, try using this to send messages to a classmate on the same shared computer (such as https://coding.csel.io) rather than two terminal windows. One person should listen for connections, while the other user connects."
      ],
      "metadata": {
        "id": "-EjsXxVOrs6Q"
      }
    }
  ]
}