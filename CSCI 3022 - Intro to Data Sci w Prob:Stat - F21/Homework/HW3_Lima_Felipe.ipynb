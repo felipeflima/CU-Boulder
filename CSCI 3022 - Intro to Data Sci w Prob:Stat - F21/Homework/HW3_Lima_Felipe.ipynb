{
 "cells": [
  {
   "cell_type": "markdown",
   "metadata": {},
   "source": [
    "\n",
    "# Homework 3: Random Variables and Their Distributions\n",
    "***\n",
    "\n",
    "**Name**: Felipe Lima\n",
    "\n",
    "***\n",
    "\n",
    "This assignment is due on Canvas by **6:00PM on Friday October 22nd**. Your solutions to theoretical questions should be done in Markdown directly below the associated question.  Your solutions to computational questions should include any specified Python code and results as well as written commentary on your conclusions.  Remember that you are encouraged to discuss the problems with your classmates, but **you must write all code and solutions on your own**.\n",
    "\n",
    "**NOTES**: \n",
    "\n",
    "- Any relevant data sets should be available in the Homework 03 assignment write-up on Canvas. To make life easier on the grader if they need to run your code, do not change the relative path names here. Instead, move the files around on your computer.\n",
    "- If you're not familiar with typesetting math directly into Markdown then by all means, do your work on paper first and then typeset it later.  Remember that there is a [reference guide](https://math.meta.stackexchange.com/questions/5020/mathjax-basic-tutorial-and-quick-reference) linked on Canvas on writing math in Markdown. **All** of your written commentary, justifications and mathematical work should be in Markdown.\n",
    "- Because you can technically evaluate notebook cells is a non-linear order, it's a good idea to do Kernel $\\rightarrow$ Restart & Run All as a check before submitting your solutions.  That way if we need to run your code you will know that it will work as expected. \n",
    "- It is **bad form** to make your reader interpret numerical output from your code.  If a question asks you to compute some value from the data you should show your code output **AND** write a summary of the results in Markdown directly below your code. \n",
    "- This probably goes without saying, but... For any question that asks you to calculate something, you **must show all work and justify your answers to receive credit**. Sparse or nonexistent work will receive sparse or nonexistent credit. \n",
    "\n",
    "---\n",
    "\n",
    "\n",
    "---"
   ]
  },
  {
   "cell_type": "code",
   "execution_count": 1,
   "metadata": {
    "scrolled": true
   },
   "outputs": [],
   "source": [
    "import pandas as pd\n",
    "import numpy as np\n",
    "from math import factorial\n",
    "import matplotlib.pylab as plt\n",
    "from scipy.special import binom\n",
    "from scipy.stats import poisson\n",
    "%matplotlib inline"
   ]
  },
  {
   "cell_type": "markdown",
   "metadata": {},
   "source": [
    "---\n",
    "\n",
    "### [20 points] Problem 1\n",
    "\n",
    "Suppose you are modeling the probability of observing flood levels of various heights when there is a storm in a particular coastal city.  Let $X$ be a random variable representing the observed flood height (in feet), which must be nonnegative. There are many different choices for probability density function (pdf) for $X$, but as the tide oscillates up and down, you decide to use the following pdf for $X$:\n",
    "\n",
    "$$\n",
    "f(x) = \\begin{cases}\n",
    "         a \\ |\\sin(x)|  & 0 \\leq x < 2\\pi \\\\\n",
    "         0                           & \\text{otherwise}\n",
    "       \\end{cases}\n",
    "$$\n",
    "where $a$ is some normalizing constant.\n",
    "\n",
    "**Part A**: Determine the value of $a$ such that $f(x)$ is a valid density function. "
   ]
  },
  {
   "cell_type": "markdown",
   "metadata": {},
   "source": [
    "$\\color{red}{\\text{Solution to Part A here}}$\n",
    "\n",
    "**Solution**: \n",
    "\n",
    "In order to make $f(x)$ a valid density function we have that $f(x) \\ge 0$ for all $x$ and $\\int_{0}^{2\\pi} a|sin(x)|dx = 1 $\n",
    "\n",
    "$$\\int_{0}^{2\\pi} a|sin(x)|dx = 1$$\n",
    "$$a\\int_{0}^{2\\pi} |sin(x)|dx = 1$$\n",
    "$$a \\left(\\int _0^{\\pi }\\sin \\left(x\\right)dx+\\int _{\\pi }^{2\\pi }-\\sin \\left(x\\right)dx\\right) = 1$$\n",
    "\n",
    "$$a \\left(-\\cos (x)]^{\\pi }_0 + -\\left[-\\cos \\left(x\\right)\\right]^{2\\pi }_{\\pi }\\right) = 1$$\n",
    "\n",
    "$$a \\left(-\\cos (x)]^{\\pi }_0 + \\cos \\left(x\\right)]^{2\\pi }_{\\pi }\\right) = 1$$\n",
    "\n",
    "\n",
    "$$a \\left(-\\cos (\\pi)- (-\\cos(0)) + \\cos(2\\pi) - \\cos(\\pi)\\right) = 1$$\n",
    "\n",
    "$$a \\left(-(-1) + 1 + 1 +1 \\right) = 1$$\n",
    "$$a4 = 1$$\n",
    "$$a = \\frac{1}{4}$$\n"
   ]
  },
  {
   "cell_type": "markdown",
   "metadata": {},
   "source": [
    "**Part B**: Compute the cumulative density (cdf) function $F(x)$ for $X$.  \n",
    "\n",
    "Then, conduct two sanity checks: First, what should $F(0)$ equal?  Second, what should $F(2\\pi)$ equal?  Does your cdf function have the correct values for $F(0)$ and $F(2\\pi)$? Be sure to **justify** these answers. "
   ]
  },
  {
   "cell_type": "markdown",
   "metadata": {},
   "source": [
    "$\\color{red}{\\text{Solution to Part B here}}$\n",
    "\n",
    "**Solution**:\n",
    "$$\\int_{0}^{x} \\frac{1}{4}|sin(x)|dx$$\n",
    "$$\\frac{1}{4}\\int_{0}^{x} |sin(x)|dx$$\n",
    "$$\\frac{1}{4} \\left(\\int _0^{\\pi }\\sin \\left(x\\right)dx+\\int _{\\pi }^{2\\pi }-\\sin \\left(x\\right)dx\\right)$$\n",
    "\n",
    "$$\\frac{1}{4} \\left(-\\cos (x)]^{\\pi }_0 + -\\left[-\\cos \\left(x\\right)\\right]^{2\\pi }_{\\pi }\\right)$$\n",
    "\n",
    "$$ \\frac{1}{4}\\left(-\\cos (x)]^{\\pi }_0 + \\cos \\left(x\\right)]^{2\\pi }_{\\pi }\\right)$$\n",
    "\n",
    "$\\therefore$ we have the cdf of F(x) for X is:\n",
    "\n",
    "\n",
    "$$\n",
    "f(x) = \\begin{cases}\n",
    "         0  &  x < 0 \\\\\n",
    "         -\\frac{1}{4}\\left(\\cos(x) - 1\\right) &  0 \\leq x \\leq \\pi \\\\\n",
    "         \\frac{1}{4}\\left(3+cos\\left(x \\right)\\right) &  \\pi < x \\leq 2\\pi \\\\\n",
    "         1 & x > 2\\pi\n",
    "       \\end{cases}\n",
    "$$\n",
    "\n",
    "Sanity checks:\n",
    "\n",
    "$F(0) \\text{ should be equal } 0 \\text{ since we are integrating from 0 to 0. Part A and the cdf confirms that.}$\n",
    "$F(2\\pi) \\text{ should be equal } 1 \\text{ since we are integrating from 0 to } 2\\pi. \\text{ Part A and the cdf confirm that.}$"
   ]
  },
  {
   "cell_type": "markdown",
   "metadata": {},
   "source": [
    "**Part C:**  Use the cdf you derived in **Part B** to calculate the median, $\\tilde{x}$, of the probability density for $X$."
   ]
  },
  {
   "cell_type": "markdown",
   "metadata": {},
   "source": [
    "$\\color{red}{\\text{Solution to Part C here}}$\n",
    "\n",
    "**Solution:**\n",
    "\n",
    "Since the median is the value in the middle of the distribution we want the value of X that generates $F(X) = 0.5$\n",
    "\n",
    "$$-\\frac{1}{4}\\left(\\cos \\left(x\\right)-1\\right)=0.5$$\n",
    "$$\\cos \\left(x\\right)-1=-2$$\n",
    "$$\\cos \\left(x\\right)=-1$$\n",
    "$$\\tilde{x} = \\pi$$\n"
   ]
  },
  {
   "cell_type": "markdown",
   "metadata": {},
   "source": [
    "**Part D**: Use the cdf you computed in **Part B** to find the probability that a given storm will produce flood levels that exceed 4 feet. Give your answer to the nearest 4 decimals."
   ]
  },
  {
   "cell_type": "markdown",
   "metadata": {},
   "source": [
    "$\\color{red}{\\text{Solution to Part D here}}$\n",
    "\n",
    "**Solution**: \n",
    "\n",
    "From the cdf we have that $\\frac{1}{4}\\left(3+cos\\left(x \\right)\\right) \\text{ for }  \\pi < x \\leq 2\\pi$\n",
    "\n",
    "$$\\frac{1}{4}\\left(3+cos\\left(x \\right)\\right) \\text{ if x = 4 its the area under the curve from 0 to 4}$$\n",
    "\n",
    "$$\\text{So we do } 1-\\frac{1}{4}\\left(3+cos\\left(4 \\right)\\right)$$\n",
    "\n",
    "$$ 1-\\frac{1}{4}\\left(3+cos\\left(4 \\right)\\right) = 0.4134$$\n",
    "\n",
    "$\\therefore$ the probability that a given storm will produce flood levels that exceed 4 feet is of 0.4134.\n",
    "\n",
    "\n",
    "Sanity check:\n",
    "$\\frac{1}{4}\\int _4^{2\\pi }\\:|sin\\left(x\\right)|dx = 0.4134$"
   ]
  },
  {
   "cell_type": "markdown",
   "metadata": {},
   "source": [
    "**Part E:** You have been painstakingly collecting data on storms in your city, and have determined that storms occur at an average rate of 5 per year. To makes things a bit more precise, the pdf from **Part A** really describes the distribution of flood heights *given* that there is a storm, $P(X \\mid \\text{storm})$. You may assume that storms occur as independent events of one another.\n",
    "\n",
    "What is the probability of observing 3 storms in a given year, none of which produce flood levels that exceed 4 feet?\n",
    "\n",
    "That is, what is $P(3 \\ \\text{storms producing flood levels under 4 feet} \\cap 3 \\text{ storms})$?"
   ]
  },
  {
   "cell_type": "markdown",
   "metadata": {},
   "source": [
    "$\\color{red}{\\text{Solution to Part E here}}$\n",
    "\n",
    "**Solution**: \n",
    "\n",
    "Probability of 3 storms producing flood levels under 4 feet:\n",
    "\n",
    "$\\left(\\frac{1}{4}\\left(3+cos\\left(4\\right)\\right)\\right) = 0.58658$\n",
    "\n",
    "Probability of 3 storms in the year, using a Poisson Distribution:\n",
    "\n",
    "$$P(X=3) = \\frac{5^3}{3!} e^{-5}$$\n",
    "\n",
    "$$\\frac{1}{e^5}\\cdot \\frac{5^3}{3!}$$\n",
    "\n",
    "$$\\frac{5^3\\cdot \\:1}{3!e^5}$$\n",
    "\n",
    "$$\\frac{5^3}{e^5\\cdot \\:3!}$$\n",
    "\n",
    "$$\\frac{125}{e^5\\cdot \\:3!}$$\n",
    "\n",
    "$$\\frac{125}{6e^5}$$\n",
    "\n",
    "\n",
    "$𝑃(3 \\text{ storms producing flood levels under 4 feet} ∩ 3 \\text{ storms}) = 0.58658 * \\frac{125}{6e^5} = 0.08234$"
   ]
  },
  {
   "cell_type": "markdown",
   "metadata": {},
   "source": [
    "---\n",
    "\n",
    "### [20 points] Problem 2\n",
    "\n",
    "You are waiting in line at the grocery store. It is taking _forever_!  There are only two lines open; one is being tended by a cashier named [John Henry](https://en.wikipedia.org/wiki/John_Henry_(folklore)), and the other is tended by a [self check-out machine](https://theconversation.com/the-economics-of-self-service-checkouts-78593). Like all human beings when they arrive at the front of the store to check-out and encounter lines everywhere, you first experience a moment of intense panic. _Which line will be the fastest?_ you wonder, as people shuffle around you.\n",
    "\n",
    "You decide you need to model the arrival of customers at the front of each of the lines.  From your Intro to Data Science class you remember that the distribution of times _between_ independent arrivals is often modeled using an Exponential distribution.  You observe the following:\n",
    "* John's line checks-out an average of 4 customers per ten minutes,\n",
    "* the self check-out machine checks-out an average of 5 customers per ten minutes **if** the machine is working properly, \n",
    "* the self check-out machine checks-out an average of 1 customer per ten minutes if the machine is freezing up, and\n",
    "* in any given moment, the self check-out machine has a probability of 0.1 of freezing up.\n",
    "\n",
    "Answer the following questions about this scenario. **Note** that for **Parts B-D** you should clearly express the computation you're doing with math, but feel free to do any fancy function evaluations with Python. \n",
    "\n",
    "**Part A**:  Assuming the between-customer times do in fact follow exponential distributions, what distributions do you expect the **number** of customers who pass through each line in a given 10-minute interval to follow?  What are the parameter(s) of each distribution?  Note that you should consider both the case where the self check-out is working properly and when it is broken."
   ]
  },
  {
   "cell_type": "markdown",
   "metadata": {},
   "source": [
    "$\\color{red}{\\text{Solution to Part A here}}$\n",
    "\n",
    "**Solution**: \n",
    "\n",
    "$\\textbf{John's line distribution:}$ Poisson Distribution\n",
    "\n",
    "$\\textbf{Paramenters:}$ $\\lambda = 4$\n",
    "\n",
    "$\\textbf{Self checkout line distribution:}$ Poisson Distribution  \n",
    "\n",
    "$\\textbf{Paramenters (when the machine is working):}$ $\\lambda = 5$\n",
    "\n",
    "$\\textbf{Paramenters (when the machine is not working):}$ $\\lambda = 1$\n",
    "\n",
    "Combined for machine $\\lambda = 0.9 * 5 + 0.1 * 1 = 4.6$ "
   ]
  },
  {
   "cell_type": "markdown",
   "metadata": {},
   "source": [
    "**Part B**:  What is the probability that 6 customers pass through John's line in the next 10 minutes?  What about the self check-out, assuming that it is working?  What about the self check-out, assuming that it is frozen?"
   ]
  },
  {
   "cell_type": "markdown",
   "metadata": {},
   "source": [
    "$\\color{red}{\\text{Solution to Part B here}}$\n",
    "\n",
    "**Solution**:\n",
    "\n",
    "$\\textbf{John's line:} P(X=6) = \\frac{4^6e^{-4}}{6!} = 0.10419$\n",
    "\n",
    "$\\textbf{Self checkout's line when working:} P(X=6) = \\frac{5^6e^{-5}}{6!} = 0.14622$\n",
    "\n",
    "$\\textbf{Self checkout's line when not working:} P(X=6) = \\frac{1^6e^{-1}}{6!} = 0.00051$"
   ]
  },
  {
   "cell_type": "code",
   "execution_count": 2,
   "metadata": {},
   "outputs": [
    {
     "name": "stdout",
     "output_type": "stream",
     "text": [
      "John:  0.10419563456702115\n",
      "Self chouckout working:  0.14622280813987562\n",
      "Self chouckout not working:  0.0005109436682936699\n"
     ]
    }
   ],
   "source": [
    "import math\n",
    "from math import e\n",
    "def Q2B(l):\n",
    "    return ((l**6)*e**(-l))/math.factorial(6)\n",
    "\n",
    "\n",
    "print(\"John: \" , Q2B(4))\n",
    "print(\"Self chouckout working: \" , Q2B(5))\n",
    "print(\"Self chouckout not working: \" , Q2B(1))\n",
    "    "
   ]
  },
  {
   "cell_type": "markdown",
   "metadata": {},
   "source": [
    "**Part C:**  Use your answer to **Part B** and the Law of Total Probability to calculate the probability that the self check-out tends 6 customers is the next 10 minutes."
   ]
  },
  {
   "cell_type": "markdown",
   "metadata": {},
   "source": [
    "$\\color{red}{\\text{Solution to Part C here}}$\n",
    "\n",
    "**Solution:**\n",
    "\n",
    "$\\textbf{Self checkout's line when working:} P(X=6) = 0.14622$\n",
    "\n",
    "$\\textbf{Self checkout's line when not working:} P(X=6) = 0.00051$\n",
    "\n",
    "Using the Law of Total Probability:\n",
    "\n",
    "$\\textbf{Self checkout's probability:} P(X=6) =0.14622 * 0.9 + 0.00051 * 0.1 = 0.13226$\n",
    "\n",
    "Sanity check using combined $\\lambda = 4.6$ from part A\n",
    "\n",
    "$P(X=6) = \\frac{4.6^6e^{-1}}{4.6!} = 0.1322695502701164$\n",
    "\n"
   ]
  },
  {
   "cell_type": "code",
   "execution_count": 3,
   "metadata": {},
   "outputs": [
    {
     "data": {
      "text/plain": [
       "0.1322695502701164"
      ]
     },
     "execution_count": 3,
     "metadata": {},
     "output_type": "execute_result"
    }
   ],
   "source": [
    "Q2B(4.6)"
   ]
  },
  {
   "cell_type": "markdown",
   "metadata": {},
   "source": [
    "**Part D**:  S'pose John is working a 5-hour shift from 4-9 PM after school. He gets no breaks, because the year is 1870 and worker's rights is not yet a thing.  Calculate **exactly** (aside from rounding) the probability that he serves 100 or more customers during his shift.  (Assume we can safely scale our data up to a 5-hour interval.)"
   ]
  },
  {
   "cell_type": "markdown",
   "metadata": {},
   "source": [
    "$\\color{red}{\\text{Solution to Part D here}}$\n",
    "\n",
    "**Solution:**\n",
    "\n",
    "We have that John checks out 4 customers every ten minutes. Assuming we can scale that up, we have that he checks out 24 customers every hour and 120 customer on his 5-hour shift.\n",
    "\n",
    "Updating the Poisson distrubution:\n",
    "\n",
    "$\\textbf{John's line:} P(X=100) = \\frac{120^{100}e^{-120}}{100!} = 0.006804294803904345$"
   ]
  },
  {
   "cell_type": "code",
   "execution_count": 4,
   "metadata": {},
   "outputs": [
    {
     "data": {
      "text/plain": [
       "0.006804294803904345"
      ]
     },
     "execution_count": 4,
     "metadata": {},
     "output_type": "execute_result"
    }
   ],
   "source": [
    "def Q2D(x):\n",
    "    return ((x**100)*e**(-x))/math.factorial(100)\n",
    "\n",
    "Q2D(120)"
   ]
  },
  {
   "cell_type": "markdown",
   "metadata": {},
   "source": [
    "**Part E**:  Write a function `checkout_count` to simulate the number of customers served by the self check-out machine in a 5-hour shift. At the very least, your function should take as input the working and broken customer arrival rate parameters, and the probability that the machine is working properly. Your simulation should model the arrival of each new customer, and sample whether or not the machine is working properly for each new customer. Then, your function should simulate customer arrival times at the front of the line by sampling between-customer times from $Exp(\\lambda)$ via Numpy's [random.exponential](https://docs.scipy.org/doc/numpy-1.13.0/reference/generated/numpy.random.exponential.html) function, where the argument $\\lambda$ will depend on the state of the machine (working or broken). Your function should return the number of customer arrivals in a 5-hour shift. Use at least 5000 simulations.\n",
    "\n",
    "Use this function to estimate the probability of the self check-out machine serves 100 or more customers in a 5-hour shift, and report your result.\n",
    "\n",
    "Finally, use **this same function**, to verify your answer to **Part D**.\n",
    "\n",
    "**Caution!**  Be aware that in some Numpy or Scipy functions for distribution and/or random variables, the conventions for the parameter arguments may differ from those used in class."
   ]
  },
  {
   "cell_type": "markdown",
   "metadata": {},
   "source": [
    "$\\color{red}{\\text{Solution to Part E here}}$\n",
    "\n",
    "**Solution:**"
   ]
  },
  {
   "cell_type": "code",
   "execution_count": 5,
   "metadata": {},
   "outputs": [],
   "source": [
    "# def checkout_count():\n"
   ]
  },
  {
   "cell_type": "markdown",
   "metadata": {},
   "source": [
    "**Part F:** Comment on the results you found in **Part E** for the probabilities that John and the self check-out machine will serve 100 or more customers in a 5-hour block. Which seems like a better investment for the grocery store?"
   ]
  },
  {
   "cell_type": "markdown",
   "metadata": {},
   "source": [
    "$\\color{red}{\\text{Solution to Part F here}}$\n",
    "\n",
    "**Solution:**"
   ]
  },
  {
   "cell_type": "markdown",
   "metadata": {},
   "source": [
    "---\n",
    "\n",
    "\n",
    "### [20 points] Problem 3\n",
    "***\n",
    "\n",
    "Well. They're back at it. Luna and her cousin are honing their cinnamon stick skills, and this time they've got a _new_ tournament format. (They wouldn't have had to switch formats, but you figured out all the probabilities for their previous tournament format two weeks ago, so this is on you.)\n",
    "\n",
    "The new format is a _Best-of-9 Series_ of individual duels. The first person to win 5 duels is declared the winner. Each duel can be considered to be independent of all previous duels. Moreover, a rigorous statistical analysis of Luna's and her cousin's strengths, weaknesses, and handwriting, has revealed that Luna has an edge: the probability that Luna wins any one duel against her cousin is given by $p=0.76$."
   ]
  },
  {
   "cell_type": "markdown",
   "metadata": {},
   "source": [
    "**Part A**: What is the probability that Luna wins the 9-duel series on the 8th duel? "
   ]
  },
  {
   "cell_type": "markdown",
   "metadata": {},
   "source": [
    "$\\color{red}{\\text{Solution to Part A here}}$\n",
    "\n",
    "**Solution**:\n",
    "\n",
    "For Luna to win on the 8th duel, it means she will have her 5th win on the 8th and 4 wins before that in any order, meaning: ${7\\choose4} = 35$\n",
    "\n",
    "We also have that $0.76^4 * 0.24^3 = 0.00461$ is the probability of winning 4 out of 7 games.\n",
    "\n",
    "So the probability of winning 4 out of 7 games in any order is: $35 * 0.00461 = 0.16135$\n",
    "\n",
    "Then we multiply by the probability of Luna winning the 5th game $0.16135 * 0.76 = 0.122626$"
   ]
  },
  {
   "cell_type": "markdown",
   "metadata": {},
   "source": [
    "**Part B**: What is the probability that Luna wins the 9-duel series in _any_ valid number of duels? "
   ]
  },
  {
   "cell_type": "markdown",
   "metadata": {},
   "source": [
    "$\\color{red}{\\text{Solution to Part B here}}$\n",
    "\n",
    "**Solution**:\n",
    "\n",
    "Probability of winning on first 5 games: $0.76^5 = 0.2535525376$\n",
    "\n",
    "Probability of winning on 6th round: $0.76^5 * 0.24^1 * {5\\choose1} = 0.30426$\n",
    "\n",
    "Probability of winning on 7th round: $0.76^5 * 0.24^2 * {6\\choose2} = 0.21906$\n",
    "\n",
    "Probability of winning on 8th round: $0.76^5 * 0.24^3 * {7\\choose3} = 0.12267$\n",
    "\n",
    "Probability of winning on 9th round: $0.76^5 * 0.24^4 * {8\\choose4} = 0.05888$\n",
    "\n",
    "Probability that Luna wins the 9-duel series in any valid number of duels: $0.2535525376 + 0.30426 +0.21906+0.12267+0.05888 = 0.9584225376$\n"
   ]
  },
  {
   "cell_type": "markdown",
   "metadata": {},
   "source": [
    "**Part C**: The winner of the tournament will take home \\$10,000. Because the stakes are so high, Luna has decided to hire a famous cinnamon stick consultant, Aishwarya, to help her prepare for each duel. \n",
    "\n",
    "With Aishwarya's help, Luna's probability of winning any given match increases to $p = 0.85$. Aishwarya charges a fee of $\\$90$ per game, but as a testament to her confidence in her abilities, only charges Luna the \\$90 for games that she wins and _only if Luna wins the whole tournament_.  So, if Luna competes in a 9-duel tournament and wins, she will take home $\\$10,000$ _minus_ $\\$450$ for Aishwarya's fees, for a total payout of $\\$9,550$.  What is the expected payout for a 9-duel series?   "
   ]
  },
  {
   "cell_type": "markdown",
   "metadata": {},
   "source": [
    "$\\color{red}{\\text{Solution to Part C here}}$\n",
    "\n",
    "**Solution**:\n",
    "\n",
    "Probability that Luna wins the 9-duel series in any valid number of duels: $0.85^5[1+(0.15^1*5)+(0.15^2*15)+(0.15^3*35)+(0.15^4*70)] = 0.99437$\n",
    "\n",
    "With the increased probability Luna how now a 0.99437 chance of winning a tournament which be a payout of $\\$9,550$. Meaning the other times the payout is to the other person for the amount of $\\$10,000$.\n",
    "\n",
    "Expected payout of tournament: $(0.99437 * 9550) + ((1-0.99437)* 10000) = \\$9,552.5335$"
   ]
  },
  {
   "cell_type": "markdown",
   "metadata": {},
   "source": [
    "**Part D**: This year the Cinnamon Stick Rules Association (the CS Rules Assoc) is implementing an experimental rule: Since Luna is rumored to be the stronger duelist, she gets to _choose_ the length of the championship tournament! Specifically, she can choose the series to be any odd length, from $N=3, 5, 7 \\dots, 99$ duels long. Assuming that Luna continues to use the service of Aishwarya, and considering the fact that Luna has a better-than-even chance of winning each duel, explain the trade-offs between choosing a short series vs. a long series in terms of Expected Payout. "
   ]
  },
  {
   "cell_type": "markdown",
   "metadata": {},
   "source": [
    "$\\color{red}{\\text{Solution to Part D here}}$\n",
    "\n",
    "***\n",
    "**Solution**:\n",
    "The higher the number of rounds, the higher the probability of Luna winning, but that means the expected payout would be lower than a tournament with a lower number of rounds. In other words, the higher the number of rounds the greater the chance of Luna winning, but lower the expected payout will be. On the other hang the lower the number of rounds, the lower the probability of Luna winning but the expected payout will be higher."
   ]
  },
  {
   "cell_type": "code",
   "execution_count": 6,
   "metadata": {},
   "outputs": [
    {
     "data": {
      "text/plain": [
       "0.9392499999999999"
      ]
     },
     "execution_count": 6,
     "metadata": {},
     "output_type": "execute_result"
    }
   ],
   "source": [
    "# just a function to help me figure out the payouts\n",
    "def game(rounds): #9\n",
    "    prob = 0\n",
    "    wins = (rounds/2)+0.5 #5\n",
    "    wins = int(wins)\n",
    "    for x in range(wins,rounds+1):\n",
    "        prob = prob+(0.85**wins * 0.15**(x-wins)*math.comb(x-1,x-wins))\n",
    "    return prob\n",
    "    \n",
    "                 \n",
    "game(3)\n",
    "#3: 9577.3375\n",
    "#99: 9550"
   ]
  },
  {
   "cell_type": "markdown",
   "metadata": {},
   "source": [
    "**Part E**: Write a function `optimal_series` that takes in $p$, the probability that Luna wins an individual duel, then computes the Expected Payout for each series of length $N=3, 5, 7, \\ldots 99$ and returns the optimal series length.  In addition to returning the optimal series length, your function should also produce a plot of Expected Payout vs Series Length. You may write any additional helper functions that you like, but you should not change the API for the function optimal_series. "
   ]
  },
  {
   "cell_type": "code",
   "execution_count": 7,
   "metadata": {},
   "outputs": [
    {
     "data": {
      "text/plain": [
       "3"
      ]
     },
     "execution_count": 7,
     "metadata": {},
     "output_type": "execute_result"
    },
    {
     "data": {
      "image/png": "[encoded data removed]",
      "text/plain": [
       "<Figure size 432x288 with 1 Axes>"
      ]
     },
     "metadata": {
      "needs_background": "light"
     },
     "output_type": "display_data"
    }
   ],
   "source": [
    "def game2(rounds, p): #9\n",
    "    prob = 0\n",
    "    wins = (rounds/2)+0.5 #5\n",
    "    wins = int(wins)\n",
    "    for x in range(wins,rounds+1):\n",
    "        prob = prob+(p**wins * (1-p)**(x-wins)*math.comb(x-1,x-wins))\n",
    "    return prob\n",
    "\n",
    "def optimal_series(p):\n",
    "    x = 3\n",
    "    best_payout = 0\n",
    "    optimal_series_length = 0\n",
    "    rounds = []\n",
    "    payout_list = []\n",
    "    while (x <= 99):\n",
    "        rounds.append(x)\n",
    "        r_prob = game2(x,p)\n",
    "        payout = ((r_prob * 9550)+((1-r_prob) *10000))\n",
    "        payout_list.append(payout)\n",
    "        if (payout > best_payout):\n",
    "            best_payout = payout\n",
    "            optimal_series_length = x\n",
    "        x = x+2\n",
    "        \n",
    "    plt.xlabel(\"Number of flips\")\n",
    "    plt.ylabel(\"Frequency\")\n",
    "    plt.title(\"Histogram\")\n",
    "\n",
    "    plt.plot(rounds, payout_list)\n",
    "    \n",
    "\n",
    "    \n",
    "\n",
    "    return optimal_series_length \n",
    "    \n",
    "optimal_series(0.85)"
   ]
  },
  {
   "cell_type": "markdown",
   "metadata": {
    "collapsed": true
   },
   "source": [
    "### [20 points] Problem 4 - Monte Carlo Estimation of Definite Integrals\n",
    "\n",
    "One really cool application of random variables is using them to approximate integrals/area under a curve.  This method of approximating integrals is used frequently in computational science to approximate really difficult integrals that we never want to do by hand.  In this exercise you'll figure out how we can do this in practice and test your method on a relatively simple integral. "
   ]
  },
  {
   "cell_type": "markdown",
   "metadata": {},
   "source": [
    "**Part A.** Consider the following function.\n",
    "\n",
    "$$ f(x) = \\frac{1}{4} \\ \\sin(x) $$   \n",
    "\n",
    "Compute **by hand**, the integral of $f(x)$ for $0 \\leq x \\leq 2$. Once you have your expression worked out, you may use python to estimate the integral to the nearest 6th decimal place.  "
   ]
  },
  {
   "cell_type": "markdown",
   "metadata": {},
   "source": [
    "$\\color{red}{\\text{Solution to Part A here}}$\n",
    "\n",
    "**Solution:**\n",
    "\n",
    "$$\\int _0^2\\frac{1}{4}\\sin \\left(x\\right)dx$$\n",
    "$$\\frac{1}{4}\\cdot \\int _0^2\\sin \\left(x\\right)dx$$\n",
    "$$\\frac{1}{4}\\left[-\\cos \\left(x\\right)\\right]^2_0$$\n",
    "$$\\frac{1}{4}\\left(-\\cos(2) + \\cos(0)\\right)$$\n",
    "$$\\frac{1}{4}\\left(-\\cos \\left(2\\right)+1\\right)$$\n",
    "$$0.354037$$"
   ]
  },
  {
   "cell_type": "code",
   "execution_count": 8,
   "metadata": {},
   "outputs": [
    {
     "name": "stdout",
     "output_type": "stream",
     "text": [
      "0.3540367091367856\n"
     ]
    }
   ],
   "source": [
    "print((1/4)*(-math.cos(2) + 1))"
   ]
  },
  {
   "cell_type": "markdown",
   "metadata": {},
   "source": [
    "**Part B.** Suppose we sample a random variable $X$ from $U(0,2)$ and another random variable $Y$ from $U(0,1)$ and think of them as $x$- and $y$-coordinates of a point in the box $[0,2] \\times [0,1]$.  If we compute the ratio of points that fall under the curve $f(x)$ to the total points sampled, what does this value estimate? "
   ]
  },
  {
   "cell_type": "markdown",
   "metadata": {},
   "source": [
    "$\\color{red}{\\text{Solution to Part B here}}$\n",
    "\n",
    "**Solution:**\n",
    "This value estimates the percentage of the area in the box that is under the curve $f(x)$."
   ]
  },
  {
   "cell_type": "markdown",
   "metadata": {},
   "source": [
    "**Part C.** How could we modify the process outlined in **Part B** so that our estimator estimates the value of the desired integral?  If you need inspiration, check out the in-class notebook on Stochastic Simulation (#4), specifically, the exercise where we estimated $\\pi$!"
   ]
  },
  {
   "cell_type": "markdown",
   "metadata": {},
   "source": [
    "$\\color{red}{\\text{Solution to Part C here}}$\n",
    "\n",
    "**Solution:**\n",
    "\n",
    "Since we have the percentage of the box that is under the curve we should multiply this percentage by the total area (in this case 2) to obtain the value of the desired integral."
   ]
  },
  {
   "cell_type": "markdown",
   "metadata": {},
   "source": [
    "**Part D.** Complete the function `integrate` below to compute an approximation to the definition integral $\\int_0^{\\text{ub}} f(x)dx$.  Your function should take as arguments:\n",
    "1. `num_samples` -- the number of points to sample,\n",
    "2. `ub` -- a number between $0$ and $\\pi$, and\n",
    "3. `isPlot` -- a Boolean flag for whether or not to display a plot of the results.\n",
    "\n",
    "Your function should return an approximation of the definite integral by sampling $X$ from $U(0,\\text{ub})$ and $Y$ from $U(0,1)$. For each random draw $(X,Y)$, define the random variable $Z$ that represents whether or not the sampled $Y$ value is less than $f(X)$ for the corresponding $X$ value.\n",
    "\n",
    "Your function should perform three tasks: \n",
    "\n",
    "1. return the estimate of the value of the integral,\n",
    "2. return the sample variance of the random variable $Z$ being simulated, using the np.var function, and\n",
    "3. if `isPlot` is True, plot the curve $f(x)$ as well as the location of the points $(X,Y)$, colored according to whether they fall above or below the curve. "
   ]
  },
  {
   "cell_type": "code",
   "execution_count": 9,
   "metadata": {},
   "outputs": [
    {
     "data": {
      "text/plain": [
       "(0.36, 0.14760000000000006)"
      ]
     },
     "execution_count": 9,
     "metadata": {},
     "output_type": "execute_result"
    },
    {
     "data": {
      "image/png": "[encoded data removed]",
      "text/plain": [
       "<Figure size 432x288 with 1 Axes>"
      ]
     },
     "metadata": {
      "needs_background": "light"
     },
     "output_type": "display_data"
    }
   ],
   "source": [
    "#Part D solution here\n",
    "def integrate(num_samples, ub, isPlot):\n",
    "    x_value = np.random.uniform(0,ub,num_samples)\n",
    "    y_value = np.random.uniform(0,1,num_samples)\n",
    "    fofx = (1/4)*np.sin(x_value)\n",
    "    z = y_value<fofx \n",
    "    estimate = 2*np.sum(z)/num_samples\n",
    "    sample_var = np.var(z)\n",
    "    if isPlot:\n",
    "        fig, ax = plt.subplots(nrows=1, ncols=1) \n",
    "        xval = np.arange(0,np.pi,np.pi/100)\n",
    "        ax.plot(xval, (1/4)*np.sin(xval))\n",
    "        ax.scatter(x_value[y_value<=fofx],y_value[y_value<=fofx],c=['green'],marker = 's')\n",
    "        ax.scatter(x_value[y_value>fofx],y_value[y_value>fofx],c='orange',s = 5)\n",
    "    return estimate, sample_var \n",
    "\n",
    "integrate(100,np.pi/2,True)"
   ]
  },
  {
   "cell_type": "markdown",
   "metadata": {},
   "source": [
    "**Part E.** Write your own small unit tests!\n",
    "\n",
    "First, what should your `integrate` function output if you plug in `ub=0`? Set that as `int_0_to_0` below.\n",
    "\n",
    "Second, what should your `integrate` function output if you plug in `ub=pi`? Set that as `int_0_to_pi` below.\n",
    "\n",
    "Then, you can execute the cell below to run two sanity checks. Write out **in math** (like, a definite integral) what each of these two tests is checking and **why** that is a reasonable sanity check.\n",
    "\n",
    "If these two assertions run without fail, then things seem to be working okay. Note that the upper endpoint test is stochastic, so if it fails, try running it a few times. If it fails a lot, then things are probably going wrong."
   ]
  },
  {
   "cell_type": "markdown",
   "metadata": {},
   "source": [
    "int_0_to_0 should return 0 as we are evalutating an area with 0 area\n",
    "$$\\int _0^0\\frac{1}{4}\\sin \\left(x\\right)dx$$\n",
    "\n",
    "int_0_to_pi should return about the whole area since we evaluating all of it\n",
    "$$\\int _0^\\pi\\frac{1}{4}\\sin \\left(x\\right)dx$$\n",
    "\n",
    "It is a reasonable sanity check to check for the edge cases of all or nothing."
   ]
  },
  {
   "cell_type": "code",
   "execution_count": 10,
   "metadata": {},
   "outputs": [
    {
     "name": "stdout",
     "output_type": "stream",
     "text": [
      "(0.0, 0.0)\n",
      "(0.26, 0.1131)\n"
     ]
    }
   ],
   "source": [
    "# Part E solution here\n",
    "int_0_to_0 = integrate(100,0,False)\n",
    "print(int_0_to_0)\n",
    "int_0_to_pi = integrate(100,np.pi,False)\n",
    "print(int_0_to_pi)"
   ]
  },
  {
   "cell_type": "markdown",
   "metadata": {},
   "source": [
    "**Part F.** Run your simulation with `isPlot=True` and `ub=2` for 1,000 samples so we can see your plot. Then, run your simulation (with `isPlot=False`) with at least 10,000 samples and estimate the value of the given integral. Be sure to leave your cells evaluated for the graders! Does your estimate agree with the exact value of the integral you computed in **Part A**? "
   ]
  },
  {
   "cell_type": "markdown",
   "metadata": {},
   "source": [
    "Doesn't agree with the exact value but approximates it"
   ]
  },
  {
   "cell_type": "code",
   "execution_count": 11,
   "metadata": {},
   "outputs": [
    {
     "name": "stdout",
     "output_type": "stream",
     "text": [
      "(0.352, 0.14502400000000001)\n",
      "(0.364, 0.14887599999999998)\n"
     ]
    },
    {
     "data": {
      "image/png": "[encoded data removed]",
      "text/plain": [
       "<Figure size 432x288 with 1 Axes>"
      ]
     },
     "metadata": {
      "needs_background": "light"
     },
     "output_type": "display_data"
    }
   ],
   "source": [
    "# Part F solution here\n",
    "print(integrate(1000,2,True))\n",
    "print(integrate(10000,2,False))"
   ]
  },
  {
   "cell_type": "markdown",
   "metadata": {},
   "source": [
    "### [20 points] Problem 5 - Probabilities and the Normal Distribution"
   ]
  },
  {
   "cell_type": "markdown",
   "metadata": {},
   "source": [
    "You bring many donuts to work to share with your coworkers at the Boulder Nuclear Power Planet. But due to the high levels of radiation there, they must be inspected for safety. In particular, if the mean level of radiation in a sample from your batch of donuts is above [190 mSv (millisievert)](https://en.wikipedia.org/wiki/Sievert), then they are deemed unsafe and you must throw the whole batch away.\n",
    "\n",
    "You know that historically donuts at the power plant have, on average, 178 mSv of radiation, with a standard deviation of 65 mSv. For the test (to see if the donuts must be thrown away) you take the donut receipt and pick every fifth donut off it, and sample the radiation levels of those donuts. Assume you bought 245 donuts. "
   ]
  },
  {
   "cell_type": "markdown",
   "metadata": {},
   "source": [
    "**Part A:** What type of sample is this? What is the sample and what is the size of it? What is the sample space?"
   ]
  },
  {
   "cell_type": "markdown",
   "metadata": {},
   "source": [
    "$\\color{red}{\\text{Solution to Part A here}}$\n",
    "\n",
    "**Solution:**"
   ]
  },
  {
   "cell_type": "markdown",
   "metadata": {},
   "source": [
    "**Part B:** What is the probability that a donut batch is deemed unsafe?  You should at the very least set up and justify your calculation by hand (in Markdown/Mathjax), before executing any calculations in Python. But feel free to use python to actually do the calculations. You ***should*** use Python to retrieve critical values of a standard normal random variable (using a Z chart is so old school!)."
   ]
  },
  {
   "cell_type": "markdown",
   "metadata": {},
   "source": [
    "$\\color{red}{\\text{Solution to Part B here}}$\n",
    "\n",
    "**Solution:**"
   ]
  },
  {
   "cell_type": "markdown",
   "metadata": {},
   "source": [
    "**Part C.** Yikes! Seems like those donuts might be dangerous, but you really do not want to throw away donuts that frequently, so you propose to store the donuts in a lead-lined donut box. But lead also is not very good for your health, so you are motivated to use the least amount of lead possible. What is the maximum mean amount of radiation $\\mu$ for our donuts to have such that the probability that we will throw donuts out due to safety concerns is at most 0.02?\n",
    "\n",
    "Calculate this **by hand**, using Python only to perform arithmetic operations and compute critical values of a standard normal random variable."
   ]
  },
  {
   "cell_type": "markdown",
   "metadata": {},
   "source": [
    "$\\color{red}{\\text{Solution to Part C here}}$\n",
    "\n",
    "**Solution:**"
   ]
  },
  {
   "cell_type": "markdown",
   "metadata": {},
   "source": [
    "**Part D.**  Your supervisor at the plant decides that serving up donuts in a lead-lined box is a bad idea. Fair enough.\n",
    "\n",
    "But she is still imposing the requirement that the probability of a batch of donuts being rejected must be less than 0.02. However, she knows a different bakery that might be the solution. At Johnny's Super Consistent Baked Goods Emporium all the donuts are exactly the same in size, which means they are closer to being exactly the same in radiation content (less deviation). Suppose the mean and sample size remain unchanged. What is the largest standard deviation to satisfy this requirement?\n",
    "\n",
    "Calculate this **by hand**, using Python only to perform arithmetic operations and compute critical values of a standard normal random variable."
   ]
  },
  {
   "cell_type": "markdown",
   "metadata": {},
   "source": [
    "$\\color{red}{\\text{Solution to Part D here}}$\n",
    "\n",
    "**Solution:**"
   ]
  },
  {
   "cell_type": "markdown",
   "metadata": {},
   "source": [
    "**Part E.** Can you think of any potential issues with using a normal distribution to model the radiation content of our donuts? Think about a really wide standard deviation, and a way smaller mean (say $\\mu = 2$). "
   ]
  },
  {
   "cell_type": "markdown",
   "metadata": {},
   "source": [
    "$\\color{red}{\\text{Solution to Part E here}}$\n",
    "\n",
    "**Solution:**"
   ]
  },
  {
   "cell_type": "code",
   "execution_count": null,
   "metadata": {},
   "outputs": [],
   "source": []
  }
 ],
 "metadata": {
  "kernelspec": {
   "display_name": "Python 3",
   "language": "python",
   "name": "python3"
  },
  "language_info": {
   "codemirror_mode": {
    "name": "ipython",
    "version": 3
   },
   "file_extension": ".py",
   "mimetype": "text/x-python",
   "name": "python",
   "nbconvert_exporter": "python",
   "pygments_lexer": "ipython3",
   "version": "3.8.5"
  }
 },
 "nbformat": 4,
 "nbformat_minor": 2
}
