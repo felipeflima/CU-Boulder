{
 "cells": [
  {
   "cell_type": "markdown",
   "metadata": {},
   "source": [
    "\n",
    "# Homework 5: Hypothesis Testing and Simple Linear Regression\n",
    "***\n",
    "\n",
    "**Name**: Felipe Lima\n",
    "\n",
    "***\n",
    "\n",
    "This assignment is due on Canvas by **6:00PM on Friday November 19**. Your solutions to theoretical questions should be done in Markdown directly below the associated question.  Your solutions to computational questions should include any specified Python code and results as well as written commentary on your conclusions.  Remember that you are encouraged to discuss the problems with your classmates, but **you must write all code and solutions on your own**.\n",
    "\n",
    "**NOTES**: \n",
    "\n",
    "- Any relevant data sets should be available in the Homework 05 assignment write-up on Canvas. To make life easier on the grader if they need to run your code, do not change the relative path names here. Instead, move the files around on your computer.\n",
    "- If you're not familiar with typesetting math directly into Markdown then by all means, do your work on paper first and then typeset it later.  **All** of your written commentary, justifications and mathematical work should be in Markdown.\n",
    "- Because you can technically evaluate notebook cells is a non-linear order, it's a good idea to do Kernel $\\rightarrow$ Restart & Run All as a check before submitting your solutions.  That way if we need to run your code you will know that it will work as expected. \n",
    "- It is **bad form** to make your reader interpret numerical output from your code.  If a question asks you to compute some value from the data you should show your code output **AND** write a summary of the results in Markdown directly below your code. \n",
    "- This probably goes without saying, but... For any question that asks you to calculate something, you **must show all work and justify your answers to receive credit**. Sparse or nonexistent work will receive sparse or nonexistent credit. \n",
    "\n",
    "---"
   ]
  },
  {
   "cell_type": "code",
   "execution_count": 2,
   "metadata": {
    "scrolled": true
   },
   "outputs": [],
   "source": [
    "import numpy as np\n",
    "import math\n",
    "import scipy.stats as stats\n",
    "import matplotlib.pyplot as plt\n",
    "import pandas as pd\n",
    "%matplotlib inline"
   ]
  },
  {
   "cell_type": "markdown",
   "metadata": {},
   "source": [
    "---\n",
    "\n",
    "### [50 points] Problem 1 - Naps vs Coffee for Memory? \n",
    "\n",
    "It is estimated that [about 75% of adults](https://www.ncbi.nlm.nih.gov/pmc/articles/PMC4997286/) in the United States drink coffee. Often, coffee is used to replace the need for sleep. It works alright, or so we think. Let's find out, in this exciting homework problem!\n",
    "\n",
    "[One recent study](https://www.sciencedirect.com/science/article/pii/S1388245703002554) investigated the effects of drinking coffee, taking a nap, and having a [\"coffee-nap\"](https://lifehacker.com/naps-vs-coffee-which-is-better-when-youre-exhausted-1730643671) - the practice of drinking some coffee *and then* having a short nap. The study broke participants up into three groups of 10 participants each, where the groups would have a nap, or have a coffee, or have a coffee-nap, then perform a task where their reaction time was measured. In previous experiments the mean reaction time measurement was found to be normally distributed. The reaction time means (milliseconds, ms) and standard deviations for the three groups of participants are given in the table below.\n",
    "\n",
    "$$\n",
    "\\begin{array}{c|c|c|c}\n",
    "\\textrm{Group} & \\textrm{Sample Size} & \\textrm{Mean} & \\textrm{Standard Deviation} \\\\\n",
    "\\hline \n",
    "\\textrm{Coffee+Nap} & 10 & 351.6 & 39.9 \\\\ \n",
    "\\textrm{Coffee} & 10 & 391.2 & 37.6 \\\\ \n",
    "\\textrm{Nap} & 10 & 382.8 & 40.5 \\\\ \n",
    "\\end{array}\n",
    "$$\n",
    "\n",
    "**Part A**: Compute a 90% t-confidence interval for the mean reaction time measurement for participants in each of these three groups. (You should find three separate confidence intervals.) For your computations in Python make sure that you do not use canned functions. Use the CI formulas given in lecture and show your steps. Print each CI to the screen.\n",
    "\n",
    "1. Can you make any conclusions regarding whether coffee, naps or both (coffee-naps) are better for faster reaction times?\n",
    "2. Why did we use a t-distribution?"
   ]
  },
  {
   "cell_type": "markdown",
   "metadata": {},
   "source": [
    "**Solution**:\n"
   ]
  },
  {
   "cell_type": "code",
   "execution_count": 195,
   "metadata": {},
   "outputs": [
    {
     "name": "stdout",
     "output_type": "stream",
     "text": [
      "Coffee+Nap CI:  [328.4707198187697, 374.72928018123037]\n",
      "Coffee CI:  [369.4039865961338, 412.9960134038662]\n",
      "Nap CI:  [359.3229110942399, 406.27708890576014]\n"
     ]
    }
   ],
   "source": [
    "# Code here\n",
    "\n",
    "def ci(n, mean, sd):\n",
    "    CI = [mean + x * stats.t.ppf(0.95, n-1) * sd/np.sqrt(n) for x in [-1,1]]\n",
    "    return CI\n",
    "\n",
    "n1, mean1, sd1 = 10, 351.6, 39.9 #coffee+nap\n",
    "print(\"Coffee+Nap CI: \", ci(n1,mean1,sd1))\n",
    "\n",
    "n2, mean2, sd2 = 10, 391.2, 37.6 #coffee\n",
    "print(\"Coffee CI: \", ci(n2,mean2,sd2))\n",
    "\n",
    "n3, mean3, sd3 = 10, 382.8, 40.5 #nap\n",
    "print(\"Nap CI: \", ci(n3,mean3,sd3))"
   ]
  },
  {
   "cell_type": "markdown",
   "metadata": {},
   "source": [
    "1. At a 90% confidence interval we cannot make any conclusions.\n",
    "2. We used a t-distribution because the sample size is small (<30) and the population standard deviation is unknow"
   ]
  },
  {
   "cell_type": "markdown",
   "metadata": {},
   "source": [
    "**Part B**: Use an appropriate hypothesis test to determine if there sufficient evidence, at the $\\alpha = 0.1$ significance level, to conclude that taking a nap promotes faster reaction time than drinking coffee.  Be sure to clearly explain the test that you're doing and state all hypotheses. Do all computations in Python, and report results."
   ]
  },
  {
   "cell_type": "markdown",
   "metadata": {},
   "source": [
    "**Solution**:\n",
    "\n",
    "Let $n = \\text{reaction time for taking a nap}$ and $c = \\text{reaction time for driking coffee}$\n",
    "\n",
    "Hypothesis:\n",
    "$$H_0: n = c$$\n",
    "$$H_1: n < c$$\n",
    "\n",
    "Following the t-table and having a 90% CI and $n_N + n_C - 2 = 10+10-2 = 18$ degrees of freedom, we have that:\n",
    "\n",
    "Rejection Region: $T > t_{0.05, 18} = 1.734$\n",
    "\n",
    "And our P-value Test is: $p$-value $=1 - $stats.t.cdf($T, 18) < \\alpha$\n",
    "\n",
    "Having $T = (\\bar{x}_C - \\bar{x}_N)\\bigg/\\sqrt{\\frac{s_N^2}{n_N} + \\frac{s_C^2}{n_C}}$"
   ]
  },
  {
   "cell_type": "code",
   "execution_count": 24,
   "metadata": {},
   "outputs": [
    {
     "name": "stdout",
     "output_type": "stream",
     "text": [
      "T = 0.481\n",
      "pval = 0.318\n"
     ]
    }
   ],
   "source": [
    "# Code here\n",
    "Cn, Cmean, Csd = 10, 391.2, 37.6 \n",
    "Nn, Nmean, Nsd = 10, 382.8, 40.5\n",
    "Dmean = Cmean - Nmean \n",
    "SE = np.sqrt((Csd**2)/Cn + (Nsd**2)/Nn)\n",
    "T = Dmean / SE \n",
    "pval = 1-stats.t.cdf(T, 18)\n",
    "print(\"T = {:.3f}\".format(T))\n",
    "print(\"pval = {:.3f}\".format(pval))"
   ]
  },
  {
   "cell_type": "markdown",
   "metadata": {},
   "source": [
    "Since $T = 0.481 < 1.734$ we fail to reject the null and cannot conclude that taking a nap promotes faster reaction time than drinking coffee.\n",
    "\n",
    "P-Value Test: Since $p$-value $0.32 > 0.1$ we fail to reject the null and cannot conclude that taking a nap promotes faster reaction time than drinking coffee."
   ]
  },
  {
   "cell_type": "markdown",
   "metadata": {},
   "source": [
    "**Part C**: Perform two hypothesis tests both at the $\\alpha = 0.1$ significance level, to first determine if there is sufficient evidence to conclude that taking a coffee-nap promotes faster reaction time than only drinking coffee. The second hypothesis test should determine if there is sufficient evidence to conclude that taking a coffee-nap promotes faster reaction time than only having a nap.  Be sure to clearly explain the test that you're doing and state all hypotheses. Do all computations in Python, and report results."
   ]
  },
  {
   "cell_type": "markdown",
   "metadata": {},
   "source": [
    "**Solution**:\n",
    "\n",
    "Let $n = \\text{reaction time for taking a nap}$, $c = \\text{reaction time for driking coffee}$ and $cn = \\text{reaction time for taking a coffee-nap}$\n",
    "\n",
    "Test 1:  determine if there is sufficient evidence to conclude that taking a coffee-nap promotes faster reaction time than only drinking coffee.\n",
    "\n",
    "Hypothesis:\n",
    "$$H_0: cn = c$$\n",
    "$$H_1: cn < c$$\n",
    "\n",
    "Test 2: determine if there is sufficient evidence to conclude that taking a coffee-nap promotes faster reaction time than only having a nap.\n",
    "\n",
    "Hypothesis:\n",
    "$$H_0: cn = n$$\n",
    "$$H_1: cn < n$$\n",
    "\n",
    "Following the t-table and having a 90% CI and $n_NC + n_C - 2 = 10+10-2 = 18$ degrees of freedom and $n_NC + n_N - 2 = 10+10-2 = 18$ degrees of freedom, we have that:\n",
    "\n",
    "Rejection Region: $T > t_{0.05, 18} = 1.734$\n",
    "\n",
    "And our P-value Test is: $p$-value $=1 - $stats.t.cdf($T, 18) < \\alpha$\n",
    "\n",
    "Having $T = (\\bar{x}_C - \\bar{x}_N)\\bigg/\\sqrt{\\frac{s_N^2}{n_N} + \\frac{s_C^2}{n_C}}$"
   ]
  },
  {
   "cell_type": "code",
   "execution_count": 27,
   "metadata": {},
   "outputs": [
    {
     "name": "stdout",
     "output_type": "stream",
     "text": [
      "T1 = 2.284\n",
      "pval1 = 0.017\n",
      "T2 = 1.735\n",
      "pval2 = 0.050\n"
     ]
    }
   ],
   "source": [
    "# Code here\n",
    "CNn, CNmean, CNsd = 10, 351.6, 39.9\n",
    "Cn, Cmean, Csd = 10, 391.2, 37.6 \n",
    "Nn, Nmean, Nsd = 10, 382.8, 40.5\n",
    "\n",
    "Dmean1 = Cmean - CNmean \n",
    "SE1 = np.sqrt((Csd**2)/Cn + (CNsd**2)/CNn)\n",
    "T1 = Dmean1 / SE1 \n",
    "pval1 = 1-stats.t.cdf(T1, 18)\n",
    "print(\"T1 = {:.3f}\".format(T1))\n",
    "print(\"pval1 = {:.3f}\".format(pval1))\n",
    "\n",
    "Dmean2 = Nmean - CNmean \n",
    "SE2 = np.sqrt((Nsd**2)/Nn + (CNsd**2)/CNn)\n",
    "T2 = Dmean2 / SE2 \n",
    "pval2 = 1-stats.t.cdf(T2, 18)\n",
    "print(\"T2 = {:.3f}\".format(T2))\n",
    "print(\"pval2 = {:.3f}\".format(pval2))"
   ]
  },
  {
   "cell_type": "markdown",
   "metadata": {},
   "source": [
    "For Test 1:\n",
    "\n",
    "Since $T1 = 2.284 > 1.734$ we reject the null and conclude that taking a coffee-nap promotes faster reaction time than only drinking coffee.\n",
    "\n",
    "P-Value Test: Since $p$-value1 $0.017 < 0.1$ we reject the null and conclude that taking a coffee-nap promotes faster reaction time than only drinking coffee.\n",
    "\n",
    "For Test 2:\n",
    "\n",
    "Since $T2 = 1.735 > 1.734$ the value is not significanlty greater to conclude that taking a coffee-nap promotes faster reaction time than only having a nap so we fail to reject the null hypothesis.\n",
    "\n",
    "P-Value Test: Since $p$-value1 $0.050 < 0.1$ we reject the null conclude that taking a coffee-nap promotes faster reaction time than only having a nap."
   ]
  },
  {
   "cell_type": "markdown",
   "metadata": {},
   "source": [
    "<br>\n",
    "\n",
    "---\n",
    "\n",
    "### [50 points] Problem 2 - Simple Linear Regression on Children's Lung Function\n",
    "\n",
    "\n",
    "\n",
    "**Part A:** Load up the data in `LungFunction.csv` into a Pandas DataFrame. The variables to study in this problem are given by the data in the first two columns. The response variable is y = forced exhalation volume (FEV), a measure of how much air somebody can forcibly exhale from their lungs, and the feature variable is x = age in years. \n",
    "\n",
    "Make a **scatter plot** of all of the data points, showing how lung function (measured by FEV) in children, changes with age. Create x-axis tick marks by age in yearly increments displaying ticks for each age from 3 to 19. Make sure to label your x-axis, y-axis, and title of your plot."
   ]
  },
  {
   "cell_type": "code",
   "execution_count": 57,
   "metadata": {},
   "outputs": [
    {
     "data": {
      "text/plain": [
       "Text(0.5, 1.0, 'Age vs FEV')"
      ]
     },
     "execution_count": 57,
     "metadata": {},
     "output_type": "execute_result"
    },
    {
     "data": {
      "image/png": "[encoded data removed]",
      "text/plain": [
       "<Figure size 720x432 with 1 Axes>"
      ]
     },
     "metadata": {
      "needs_background": "light"
     },
     "output_type": "display_data"
    }
   ],
   "source": [
    "# Code here\n",
    "file_path = 'data/LungFunction.csv'\n",
    "\n",
    "# Load the data into a DataFrame \n",
    "df = pd.read_csv(file_path)\n",
    "df.head()\n",
    "\n",
    "ax1 = df.plot.scatter(x='age', y='FEV', figsize=(10,6))\n",
    "plt.xticks(np.arange(3, 20, step=1))  # Set label locations.\n",
    "ax1.set_title(\"Age vs FEV\", fontsize=10)"
   ]
  },
  {
   "cell_type": "markdown",
   "metadata": {},
   "source": [
    "**Part B:** Use the stats.linregress package to fit a linear model to your data from **Part A**. \n",
    "\n",
    "- Print the parameters of the regression line in the forrm $Y = \\hat{\\alpha} + \\hat{\\beta} X$.\n",
    "\n",
    "- Then make a scatter plot of the FEV values as a function of age, and overlay the estimated regression line. Label your axes and provide a legend."
   ]
  },
  {
   "cell_type": "code",
   "execution_count": 176,
   "metadata": {},
   "outputs": [
    {
     "name": "stdout",
     "output_type": "stream",
     "text": [
      "Y = 0.432 + 0.222X\n"
     ]
    },
    {
     "data": {
      "image/png": "[encoded data removed]",
      "text/plain": [
       "<Figure size 864x576 with 1 Axes>"
      ]
     },
     "metadata": {
      "needs_background": "light"
     },
     "output_type": "display_data"
    }
   ],
   "source": [
    "# Code here\n",
    "beta, alpha, rval, pvalue, stderr = stats.linregress(df[\"age\"], df[\"FEV\"])\n",
    "print(\"Y = {:.3f} + {:.3f}X\".format(alpha, beta))\n",
    "\n",
    "fig, ax = plt.subplots(nrows=1, ncols=1, figsize=(12,8))\n",
    "ax.scatter(df[\"age\"], df[\"FEV\"])\n",
    "ax.set_xlabel(\"age\", fontsize=10)\n",
    "ax.set_ylabel(\"FEV\", fontsize=10)\n",
    "ax.set_title(\"age vs FEV\", fontsize=20)\n",
    "ax.plot(df[\"age\"], alpha + beta * df[\"age\"], color=\"orange\");"
   ]
  },
  {
   "cell_type": "markdown",
   "metadata": {},
   "source": [
    "**Part C**: Give a physical interpretation of the coefficient $\\hat{\\beta}$, estimated from your model. Include addressing whether the relationship between age and lung function is positive or negative. Fully justify your responses."
   ]
  },
  {
   "cell_type": "markdown",
   "metadata": {},
   "source": [
    "**Solution:**\n",
    "\n",
    "Since our $\\hat{\\beta} = 0.222$ we can observe that it is positive meaning the the relationship between age and lung function is positive. With our resulted beta coefficient we can conclude that for every 1-unit increase in the predictor variable, the outcome variable will increase by 0.222."
   ]
  },
  {
   "cell_type": "markdown",
   "metadata": {},
   "source": [
    "**Part D:** Compute the $R^2$ value for your regression line in **Part B**. Use the formula given in lecture involving SSE, SSR, and SST. Once you have computed $R^2$ using the formula from lecture. Verify that stats.linregress provides the same value. Note: stats.linregress returns \"rval\" and $R^2 = (rval)^2$"
   ]
  },
  {
   "cell_type": "code",
   "execution_count": 194,
   "metadata": {},
   "outputs": [
    {
     "name": "stdout",
     "output_type": "stream",
     "text": [
      "Formula R^2:  0.5722302035360712\n",
      "starts.linregress:  0.5722302035360854\n"
     ]
    }
   ],
   "source": [
    "# Code here\n",
    "sumxy = 0\n",
    "sumxs = 0\n",
    "sumys = 0\n",
    "n = df.shape[0]\n",
    "for i in range (0,n):\n",
    "    sumxy = sumxy + (df.age[i]*df.FEV[i])\n",
    "    sumxs = sumxs + (df.age[i]**2)\n",
    "    sumys = sumys + (df.FEV[i]**2)\n",
    "\n",
    "sumx = df.age.sum()\n",
    "sumy = df.FEV.sum()\n",
    "\n",
    "# print(sumx) #sum age\n",
    "# print(sumy) #sum FEV\n",
    "# print(sumxs) #sum age squared\n",
    "# print(sumys) #sum FEV squared\n",
    "# print(sumxy) #sum age*FEV\n",
    "    \n",
    "FormulaRval = ((n*sumxy)-(sumx*sumy))/(math.sqrt(((n*sumxs) - (sumx**2))*((n*sumys) - (sumy**2))))\n",
    "\n",
    "print(\"Formula R^2: \" , FormulaRval**2)\n",
    "stats.linregress(df[\"age\"], df[\"FEV\"])\n",
    "print(\"starts.linregress: \", rval**2)"
   ]
  },
  {
   "cell_type": "markdown",
   "metadata": {},
   "source": [
    "**Part E:** Give an interpretation of the $R^2$ value that you found. Mention what it indicates about the fit of your model."
   ]
  },
  {
   "cell_type": "markdown",
   "metadata": {},
   "source": [
    "**Solution:**\n",
    "\n",
    "Our $R^2$ gives us a decent explanation of FEV variation. It shows decent strength of the relationship between the model and the dependent variable.\n"
   ]
  },
  {
   "cell_type": "markdown",
   "metadata": {},
   "source": [
    "**Part F:** Use the data to compute a 95% confidence interval for the slope. Note that there are built in packages that compute the CI, however you should be performing all calculations yourself in Python. You may use the stderr value that was returned by stats.linregress above. Show all computation involved in finding the CI and print your CI for the slope to the screen."
   ]
  },
  {
   "cell_type": "code",
   "execution_count": 198,
   "metadata": {},
   "outputs": [
    {
     "name": "stdout",
     "output_type": "stream",
     "text": [
      "CI: [0.207, 0.237]\n"
     ]
    }
   ],
   "source": [
    "# Code here\n",
    "CIex2f = [beta + i * stats.t.ppf(0.975, len(df)-2) * stderr for i in [-1,1]]\n",
    "print(\"CI: [{:.3f}, {:.3f}]\".format(CIex2f[0], CIex2f[1]))"
   ]
  },
  {
   "cell_type": "markdown",
   "metadata": {},
   "source": [
    "**Part G:** Another way to study how well a simple linear regression model fits data is to plot the residuals. Make a plot of the residuals and provide a brief explanation of what you find."
   ]
  },
  {
   "cell_type": "code",
   "execution_count": 209,
   "metadata": {},
   "outputs": [
    {
     "data": {
      "image/png": "[encoded data removed]",
      "text/plain": [
       "<Figure size 432x288 with 1 Axes>"
      ]
     },
     "metadata": {
      "needs_background": "light"
     },
     "output_type": "display_data"
    }
   ],
   "source": [
    "# Code here\n",
    "import seaborn as sns\n",
    "\n",
    "sns.residplot(x = \"age\",\n",
    "              y = \"FEV\",\n",
    "              data = df)\n",
    "  \n",
    "plt.show()"
   ]
  },
  {
   "cell_type": "markdown",
   "metadata": {},
   "source": [
    "**Solution:**\n"
   ]
  },
  {
   "cell_type": "code",
   "execution_count": null,
   "metadata": {},
   "outputs": [],
   "source": []
  }
 ],
 "metadata": {
  "kernelspec": {
   "display_name": "Python 3",
   "language": "python",
   "name": "python3"
  },
  "language_info": {
   "codemirror_mode": {
    "name": "ipython",
    "version": 3
   },
   "file_extension": ".py",
   "mimetype": "text/x-python",
   "name": "python",
   "nbconvert_exporter": "python",
   "pygments_lexer": "ipython3",
   "version": "3.8.5"
  }
 },
 "nbformat": 4,
 "nbformat_minor": 2
}
